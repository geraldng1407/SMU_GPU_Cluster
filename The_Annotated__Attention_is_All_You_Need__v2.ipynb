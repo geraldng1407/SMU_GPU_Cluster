{
  "cells": [
    {
      "cell_type": "markdown",
      "metadata": {
        "id": "wArePITKUgQG"
      },
      "source": [
        "<img src=\"https://nlp.seas.harvard.edu/images/the-annotated-transformer_0_0.png\">"
      ]
    },
    {
      "cell_type": "markdown",
      "metadata": {
        "id": "tSWEk4ttUgQH"
      },
      "source": [
        "> The [\"Attention is All You Need\"]\n",
        "(https://arxiv.org/abs/1706.03762) paper from NIPS 2017 has been instantly impactful paper as a new method for machine translation and potentiall NLP generally. The paper is very clearly written, but the conventional wisdom has been that it is quite difficult to implement correctly.\n",
        ">\n",
        "> In this post I follow the paper through from start to finish and try to implement each component in code.\n",
        "(I have done some minor reordering and skipping from the original paper). This document itself is a working notebook, and should be a completely usable and efficient implementation. To follow along you will first need to install [PyTorch](http://pytorch.org/) and [torchtext](https://github.com/pytorch/text). The complete code is available on [github](https://github.com/harvardnlp/annotated-transformer).\n",
        ">- Alexander \"Sasha\" Rush ([@harvardnlp](https://twitter.com/harvardnlp))\n"
      ]
    },
    {
      "cell_type": "code",
      "execution_count": 1,
      "metadata": {
        "colab": {
          "base_uri": "https://localhost:8080/"
        },
        "id": "ZaYyfFUqUnGY",
        "outputId": "0778f8c0-6375-4369-b199-4823b7c45a54"
      },
      "outputs": [
        {
          "output_type": "stream",
          "name": "stdout",
          "text": [
            "Collecting torchtext==0.6.0\n",
            "  Downloading torchtext-0.6.0-py3-none-any.whl (64 kB)\n",
            "\u001b[?25l     \u001b[90m━━━━━━━━━━━━━━━━━━━━━━━━━━━━━━━━━━━━━━━━\u001b[0m \u001b[32m0.0/64.2 kB\u001b[0m \u001b[31m?\u001b[0m eta \u001b[36m-:--:--\u001b[0m\r\u001b[2K     \u001b[90m━━━━━━━━━━━━━━━━━━━━━━━━━━━━━━━━━━━━━━━━\u001b[0m \u001b[32m64.2/64.2 kB\u001b[0m \u001b[31m2.2 MB/s\u001b[0m eta \u001b[36m0:00:00\u001b[0m\n",
            "\u001b[?25hRequirement already satisfied: tqdm in /usr/local/lib/python3.10/dist-packages (from torchtext==0.6.0) (4.66.1)\n",
            "Requirement already satisfied: requests in /usr/local/lib/python3.10/dist-packages (from torchtext==0.6.0) (2.31.0)\n",
            "Requirement already satisfied: torch in /usr/local/lib/python3.10/dist-packages (from torchtext==0.6.0) (2.1.0+cu118)\n",
            "Requirement already satisfied: numpy in /usr/local/lib/python3.10/dist-packages (from torchtext==0.6.0) (1.23.5)\n",
            "Requirement already satisfied: six in /usr/local/lib/python3.10/dist-packages (from torchtext==0.6.0) (1.16.0)\n",
            "Collecting sentencepiece (from torchtext==0.6.0)\n",
            "  Downloading sentencepiece-0.1.99-cp310-cp310-manylinux_2_17_x86_64.manylinux2014_x86_64.whl (1.3 MB)\n",
            "\u001b[2K     \u001b[90m━━━━━━━━━━━━━━━━━━━━━━━━━━━━━━━━━━━━━━━━\u001b[0m \u001b[32m1.3/1.3 MB\u001b[0m \u001b[31m10.5 MB/s\u001b[0m eta \u001b[36m0:00:00\u001b[0m\n",
            "\u001b[?25hRequirement already satisfied: charset-normalizer<4,>=2 in /usr/local/lib/python3.10/dist-packages (from requests->torchtext==0.6.0) (3.3.2)\n",
            "Requirement already satisfied: idna<4,>=2.5 in /usr/local/lib/python3.10/dist-packages (from requests->torchtext==0.6.0) (3.4)\n",
            "Requirement already satisfied: urllib3<3,>=1.21.1 in /usr/local/lib/python3.10/dist-packages (from requests->torchtext==0.6.0) (2.0.7)\n",
            "Requirement already satisfied: certifi>=2017.4.17 in /usr/local/lib/python3.10/dist-packages (from requests->torchtext==0.6.0) (2023.7.22)\n",
            "Requirement already satisfied: filelock in /usr/local/lib/python3.10/dist-packages (from torch->torchtext==0.6.0) (3.13.1)\n",
            "Requirement already satisfied: typing-extensions in /usr/local/lib/python3.10/dist-packages (from torch->torchtext==0.6.0) (4.5.0)\n",
            "Requirement already satisfied: sympy in /usr/local/lib/python3.10/dist-packages (from torch->torchtext==0.6.0) (1.12)\n",
            "Requirement already satisfied: networkx in /usr/local/lib/python3.10/dist-packages (from torch->torchtext==0.6.0) (3.2.1)\n",
            "Requirement already satisfied: jinja2 in /usr/local/lib/python3.10/dist-packages (from torch->torchtext==0.6.0) (3.1.2)\n",
            "Requirement already satisfied: fsspec in /usr/local/lib/python3.10/dist-packages (from torch->torchtext==0.6.0) (2023.6.0)\n",
            "Requirement already satisfied: triton==2.1.0 in /usr/local/lib/python3.10/dist-packages (from torch->torchtext==0.6.0) (2.1.0)\n",
            "Requirement already satisfied: MarkupSafe>=2.0 in /usr/local/lib/python3.10/dist-packages (from jinja2->torch->torchtext==0.6.0) (2.1.3)\n",
            "Requirement already satisfied: mpmath>=0.19 in /usr/local/lib/python3.10/dist-packages (from sympy->torch->torchtext==0.6.0) (1.3.0)\n",
            "Installing collected packages: sentencepiece, torchtext\n",
            "  Attempting uninstall: torchtext\n",
            "    Found existing installation: torchtext 0.16.0\n",
            "    Uninstalling torchtext-0.16.0:\n",
            "      Successfully uninstalled torchtext-0.16.0\n",
            "Successfully installed sentencepiece-0.1.99 torchtext-0.6.0\n"
          ]
        }
      ],
      "source": [
        "# !pip install http://download.pytorch.org/whl/cu80/torch-0.3.0.post4-cp36-cp36m-linux_x86_64.whl numpy matplotlib spacy torchtext\n",
        "!pip install torchtext==0.6.0"
      ]
    },
    {
      "cell_type": "code",
      "execution_count": 2,
      "metadata": {
        "id": "4LTc4HW7UgQI"
      },
      "outputs": [],
      "source": [
        "# Standard PyTorch imports\n",
        "import numpy as np\n",
        "import torch\n",
        "import torch.nn as nn\n",
        "import torch.nn.functional as F\n",
        "import math, copy\n",
        "from torch.autograd import Variable\n",
        "\n",
        "# For plots\n",
        "%matplotlib inline\n",
        "import matplotlib.pyplot as plt\n"
      ]
    },
    {
      "cell_type": "markdown",
      "metadata": {
        "id": "esxhOQubUgQL"
      },
      "source": [
        "# Background"
      ]
    },
    {
      "cell_type": "markdown",
      "metadata": {
        "id": "1M-PiEMOUgQM"
      },
      "source": [
        "The goal of reducing sequential computation also forms the foundation of the Extended Neural GPU\n",
        "[16], ByteNet [18] and ConvS2S [9], all of which use convolutional neural networks as basic building\n",
        "block, computing hidden representations in parallel for all input and output positions. In these models,\n",
        "the number of operations required to relate signals from two arbitrary input or output positions grows\n",
        "in the distance between positions, linearly for ConvS2S and logarithmically for ByteNet. This makes\n",
        "it more difficult to learn dependencies between distant positions [12]. In the Transformer this is\n",
        "reduced to a constant number of operations, albeit at the cost of reduced effective resolution due\n",
        "to averaging attention-weighted positions, an effect we counteract with Multi-Head Attention as\n",
        "described in section 3.2.\n",
        "\n",
        "Self-attention, sometimes called intra-attention is an attention mechanism relating different positions\n",
        "of a single sequence in order to compute a representation of the sequence. Self-attention has been\n",
        "used successfully in a variety of tasks including reading comprehension, abstractive summarization,\n",
        "textual entailment and learning task-independent sentence representations [4, 27, 28, 22].\n",
        "End-to-end memory networks are based on a recurrent attention mechanism instead of sequencealigned\n",
        "recurrence and have been shown to perform well on simple-language question answering and\n",
        "language modeling tasks [34].\n",
        "\n",
        "To the best of our knowledge, however, the Transformer is the first transduction model relying\n",
        "entirely on self-attention to compute representations of its input and output without using sequencealigned\n",
        "RNNs or convolution. In the following sections, we will describe the Transformer, motivate\n",
        "self-attention and discuss its advantages over models such as [17, 18] and [9]."
      ]
    },
    {
      "cell_type": "markdown",
      "metadata": {
        "id": "84vTAA5TUgQM"
      },
      "source": [
        "# Model Architecture"
      ]
    },
    {
      "cell_type": "markdown",
      "metadata": {
        "id": "VBOvyU9BUgQN"
      },
      "source": [
        "Most competitive neural sequence transduction models have an encoder-decoder structure [(cite)](cho2014learning,bahdanau2014neural,sutskever14). Here, the encoder maps an input sequence of symbol representations $(x_1, ..., x_n)$ to a sequence of continuous representations $\\mathbf{z} = (z_1, ..., z_n)$. Given $\\mathbf{z}$, the decoder then generates an output sequence $(y_1,...,y_m)$ of symbols one element at a time. At each step the model is auto-regressive [(cite)](graves2013generating), consuming the previously generated symbols as additional input when generating the next."
      ]
    },
    {
      "cell_type": "code",
      "execution_count": 3,
      "metadata": {
        "id": "1AC8KeDJUgQO"
      },
      "outputs": [],
      "source": [
        "class EncoderDecoder(nn.Module):\n",
        "    \"\"\"\n",
        "    A standard Encoder-Decoder architecture. Base model for this and many\n",
        "    other models.\n",
        "    \"\"\"\n",
        "    def __init__(self, encoder, decoder, src_embed, tgt_embed, generator):\n",
        "        super(EncoderDecoder, self).__init__()\n",
        "        self.encoder = encoder\n",
        "        self.decoder = decoder\n",
        "        self.src_embed = src_embed\n",
        "        self.tgt_embed = tgt_embed\n",
        "        self.generator = generator\n",
        "\n",
        "    def forward(self, src, tgt, src_mask, tgt_mask):\n",
        "        \"Take in and process masked src and target sequences.\"\n",
        "        memory = self.encoder(self.src_embed(src), src_mask)\n",
        "        output = self.decoder(self.tgt_embed(tgt), memory, src_mask, tgt_mask)\n",
        "        return output\n",
        "\n",
        "    def encode(self, src, src_mask):\n",
        "        return self.encoder(self.src_embed(src), src_mask)\n",
        "\n",
        "    def decode(self, memory, src_mask, tgt, tgt_mask):\n",
        "        return self.decoder(self.tgt_embed(tgt), memory, src_mask, tgt_mask)"
      ]
    },
    {
      "cell_type": "markdown",
      "metadata": {
        "id": "ip0EXqvEUgQQ"
      },
      "source": [
        "The Transformer follows this overall architecture using stacked self-attention and point-wise, fully connected layers for both the encoder and decoder, shown in the left and right halves of Figure 1, respectively."
      ]
    },
    {
      "cell_type": "markdown",
      "metadata": {
        "id": "q9dznVhQUgQQ"
      },
      "source": [
        "<img src=\"https://nlp.seas.harvard.edu/images/the-annotated-transformer_14_0.png\" width=400px>"
      ]
    },
    {
      "cell_type": "markdown",
      "metadata": {
        "id": "euyRXbaMUgQR"
      },
      "source": [
        "## Encoder and Decoder Stacks   \n",
        "\n",
        "### Encoder:\n",
        "\n",
        "The encoder is composed of a stack of $N=6$ identical layers."
      ]
    },
    {
      "cell_type": "code",
      "execution_count": 4,
      "metadata": {
        "id": "6yy7pY85UgQR"
      },
      "outputs": [],
      "source": [
        "def clones(module, N):\n",
        "    \"Produce N identical layers.\"\n",
        "    return nn.ModuleList([copy.deepcopy(module) for _ in range(N)])"
      ]
    },
    {
      "cell_type": "code",
      "execution_count": 5,
      "metadata": {
        "id": "psiq5idJUgQT"
      },
      "outputs": [],
      "source": [
        "class Encoder(nn.Module):\n",
        "    \"Core encoder is a stack of N layers\"\n",
        "    def __init__(self, layer, N):\n",
        "        super(Encoder, self).__init__()\n",
        "        self.layers = clones(layer, N)\n",
        "        self.norm = LayerNorm(layer.size)\n",
        "\n",
        "    def forward(self, x, mask):\n",
        "        \"Pass the input (and mask) through each layer in turn.\"\n",
        "        for layer in self.layers:\n",
        "            x = layer(x, mask)\n",
        "        return self.norm(x)"
      ]
    },
    {
      "cell_type": "markdown",
      "metadata": {
        "id": "Mie9sUeSUgQV"
      },
      "source": [
        "We employ a residual connection [(cite)](he2016deep) around each of the two sub-layers, followed by layer normalization [(cite)](layernorm2016).  "
      ]
    },
    {
      "cell_type": "code",
      "execution_count": 6,
      "metadata": {
        "id": "sEz9kLClUgQV"
      },
      "outputs": [],
      "source": [
        "class LayerNorm(nn.Module):\n",
        "    \"Construct a layernorm module (See citation for details).\"\n",
        "    def __init__(self, features, eps=1e-6):\n",
        "        super(LayerNorm, self).__init__()\n",
        "        self.a_2 = nn.Parameter(torch.ones(features))\n",
        "        self.b_2 = nn.Parameter(torch.zeros(features))\n",
        "        self.eps = eps\n",
        "\n",
        "    def forward(self, x):\n",
        "        mean = x.mean(-1, keepdim=True)\n",
        "        std = x.std(-1, keepdim=True)\n",
        "        return self.a_2 * (x - mean) / (std + self.eps) + self.b_2"
      ]
    },
    {
      "cell_type": "markdown",
      "metadata": {
        "id": "nx4On5PCUgQY"
      },
      "source": [
        "That is, the output of each sub-layer is $\\mathrm{LayerNorm}(x + \\mathrm{Sublayer}(x))$, where $\\mathrm{Sublayer}(x)$ is the function implemented by the sub-layer itself.  We apply dropout [(cite)](srivastava2014dropout) to the output of each sub-layer, before it is added to the sub-layer input and normalized.  \n",
        "\n",
        "To facilitate these residual connections, all sub-layers in the model, as well as the embedding layers, produce outputs of dimension $d_{\\text{model}}=512$.  "
      ]
    },
    {
      "cell_type": "code",
      "execution_count": 7,
      "metadata": {
        "id": "zx9JBwAcUgQY"
      },
      "outputs": [],
      "source": [
        "class SublayerConnection(nn.Module):\n",
        "    \"\"\"\n",
        "    A residual connection followed by a layer norm.\n",
        "    Note for code simplicity we apply the norm first as opposed to last.\n",
        "    \"\"\"\n",
        "    def __init__(self, size, dropout):\n",
        "        super(SublayerConnection, self).__init__()\n",
        "        self.norm = LayerNorm(size)\n",
        "        self.dropout = nn.Dropout(dropout)\n",
        "\n",
        "    def forward(self, x, sublayer):\n",
        "        \"Apply residual connection to any sublayer function that maintains the same size.\"\n",
        "        return x + self.dropout(sublayer(self.norm(x)))"
      ]
    },
    {
      "cell_type": "markdown",
      "metadata": {
        "id": "ZduB6mIlUgQa"
      },
      "source": [
        "Each layer has two sub-layers. The first is a multi-head self-attention mechanism, and the second is a simple, position-wise fully connected feed-forward network."
      ]
    },
    {
      "cell_type": "code",
      "execution_count": 8,
      "metadata": {
        "id": "0mEBw9tIUgQb"
      },
      "outputs": [],
      "source": [
        "class EncoderLayer(nn.Module):\n",
        "    \"Encoder is made up of two sublayers, self-attn and feed forward (defined below)\"\n",
        "    def __init__(self, size, self_attn, feed_forward, dropout):\n",
        "        super(EncoderLayer, self).__init__()\n",
        "        self.self_attn = self_attn\n",
        "        self.feed_forward = feed_forward\n",
        "        self.sublayer = clones(SublayerConnection(size, dropout), 2)\n",
        "        self.size = size\n",
        "\n",
        "    def forward(self, x, mask):\n",
        "        \"Follow Figure 1 (left) for connections.\"\n",
        "        x = self.sublayer[0](x, lambda x: self.self_attn(x, x, x, mask))\n",
        "        return self.sublayer[1](x, self.feed_forward)"
      ]
    },
    {
      "cell_type": "markdown",
      "metadata": {
        "id": "iHOZnpnBUgQd"
      },
      "source": [
        "### Decoder:\n",
        "\n",
        "The decoder is also composed of a stack of $N=6$ identical layers.  \n"
      ]
    },
    {
      "cell_type": "code",
      "execution_count": 9,
      "metadata": {
        "id": "3o_ZB42sUgQd"
      },
      "outputs": [],
      "source": [
        "class Decoder(nn.Module):\n",
        "    \"Generic N layer decoder with masking.\"\n",
        "    def __init__(self, layer, N):\n",
        "        super(Decoder, self).__init__()\n",
        "        self.layers = clones(layer, N)\n",
        "        self.norm = LayerNorm(layer.size)\n",
        "\n",
        "    def forward(self, x, memory, src_mask, tgt_mask):\n",
        "        for layer in self.layers:\n",
        "            x = layer(x, memory, src_mask, tgt_mask)\n",
        "        return self.norm(x)"
      ]
    },
    {
      "cell_type": "markdown",
      "metadata": {
        "id": "dOi_W1qaUgQf"
      },
      "source": [
        "In addition to the two sub-layers in each encoder layer, the decoder inserts a third sub-layer, which performs multi-head attention over the output of the encoder stack.  Similar to the encoder, we employ residual connections around each of the sub-layers, followed by layer normalization.  "
      ]
    },
    {
      "cell_type": "code",
      "execution_count": 10,
      "metadata": {
        "id": "kMm6xHWVUgQg"
      },
      "outputs": [],
      "source": [
        "class DecoderLayer(nn.Module):\n",
        "    \"Decoder is made up of three sublayers, self-attn, src-attn, and feed forward (defined below)\"\n",
        "    def __init__(self, size, self_attn, src_attn, feed_forward, dropout):\n",
        "        super(DecoderLayer, self).__init__()\n",
        "        self.size = size\n",
        "        self.self_attn = self_attn\n",
        "        self.src_attn = src_attn\n",
        "        self.feed_forward = feed_forward\n",
        "        self.sublayer = clones(SublayerConnection(size, dropout), 3)\n",
        "\n",
        "    def forward(self, x, memory, src_mask, tgt_mask):\n",
        "        \"Follow Figure 1 (right) for connections.\"\n",
        "        m = memory\n",
        "        x = self.sublayer[0](x, lambda x: self.self_attn(x, x, x, tgt_mask))\n",
        "        x = self.sublayer[1](x, lambda x: self.src_attn(x, m, m, src_mask))\n",
        "        return self.sublayer[2](x, self.feed_forward)"
      ]
    },
    {
      "cell_type": "markdown",
      "metadata": {
        "id": "3Nen9h7wUgQi"
      },
      "source": [
        "We also modify the self-attention sub-layer in the decoder stack to prevent positions from attending to subsequent positions.  This masking, combined with fact that the output embeddings are offset by one position, ensures that the predictions for position $i$ can depend only on the known outputs at positions less than $i$."
      ]
    },
    {
      "cell_type": "code",
      "execution_count": 11,
      "metadata": {
        "id": "RyQKI9AgUgQj"
      },
      "outputs": [],
      "source": [
        "def subsequent_mask(size):\n",
        "    \"Mask out subsequent positions.\"\n",
        "    attn_shape = (1, size, size)\n",
        "    subsequent_mask = np.triu(np.ones(attn_shape), k=1).astype('uint8')\n",
        "    return torch.from_numpy(subsequent_mask) == 0"
      ]
    },
    {
      "cell_type": "code",
      "execution_count": 12,
      "metadata": {
        "colab": {
          "base_uri": "https://localhost:8080/",
          "height": 462
        },
        "id": "fgQMtvM-UgQl",
        "outputId": "f3548b85-7cf9-4cd4-fdbb-26a74ec658f7"
      },
      "outputs": [
        {
          "output_type": "execute_result",
          "data": {
            "text/plain": [
              "<matplotlib.image.AxesImage at 0x7e59d4372ef0>"
            ]
          },
          "metadata": {},
          "execution_count": 12
        },
        {
          "output_type": "display_data",
          "data": {
            "text/plain": [
              "<Figure size 500x500 with 1 Axes>"
            ],
            "image/png": "[encoded data removed]"
          },
          "metadata": {}
        }
      ],
      "source": [
        "# The attention mask shows the position each tgt word (row) is allowed to look at (column).\n",
        "# Words are blocked for attending to future words during training.\n",
        "plt.figure(figsize=(5,5))\n",
        "plt.imshow(subsequent_mask(20)[0])"
      ]
    },
    {
      "cell_type": "markdown",
      "metadata": {
        "id": "fl2E1IaqUgQq"
      },
      "source": []
    },
    {
      "cell_type": "markdown",
      "metadata": {
        "id": "3twSbimFUgQq"
      },
      "source": [
        "### Attention:                                                                                                                                                                                                                                                                               \n",
        "An attention function can be described as mapping a query and a set of key-value pairs to an output, where the query, keys, values, and output are all vectors.  The output is computed as a weighted sum of the values, where the weight assigned to each value is computed by a compatibility function of the query with the corresponding key.                                                                                                                                                                                                                                                                                           \n",
        "\n",
        "We call our particular attention \"Scaled Dot-Product Attention\".   The input consists of queries and keys of dimension $d_k$, and values of dimension $d_v$.  We compute the dot products of the query with all keys, divide each by $\\sqrt{d_k}$, and apply a softmax function to obtain the weights on the values.                                                                                                         \n",
        "<img width=\"220px\" src=\"https://nlp.seas.harvard.edu/images/the-annotated-transformer_33_0.png\">\n",
        "\n",
        "In practice, we compute the attention function on a set of queries simultaneously, packed together into a matrix $Q$.   The keys and values are also packed together into matrices $K$ and $V$.  We compute the matrix of outputs as:                      \n",
        "                                                                 \n",
        "$$                                                                         \n",
        "   \\mathrm{Attention}(Q, K, V) = \\mathrm{softmax}(\\frac{QK^T}{\\sqrt{d_k}})V               \n",
        "$$                                                                                                                                                                                                        \n",
        "                                                                                                                                                                     "
      ]
    },
    {
      "cell_type": "code",
      "execution_count": 13,
      "metadata": {
        "id": "wlZ8zw9PUgQr"
      },
      "outputs": [],
      "source": [
        "def attention(query, key, value, mask=None, dropout=0.0):\n",
        "    \"Compute 'Scaled Dot Product Attention'\"\n",
        "    d_k = query.size(-1)\n",
        "    scores = torch.matmul(query, key.transpose(-2, -1)) \\\n",
        "             / math.sqrt(d_k)\n",
        "    if mask is not None:\n",
        "        scores = scores.masked_fill(mask == 0, -1e9)\n",
        "    p_attn = F.softmax(scores, dim = -1)\n",
        "    # (Dropout described below)\n",
        "    p_attn = F.dropout(p_attn, p=dropout)\n",
        "    return torch.matmul(p_attn, value), p_attn"
      ]
    },
    {
      "cell_type": "markdown",
      "metadata": {
        "id": "AV7cIqbrUgQs"
      },
      "source": [
        "The two most commonly used attention functions are additive attention [(cite)](bahdanau2014neural), and dot-product (multiplicative) attention.  Dot-product attention is identical to our algorithm, except for the scaling factor of $\\frac{1}{\\sqrt{d_k}}$. Additive attention computes the compatibility function using a feed-forward network with a single hidden layer.  While the two are similar in theoretical complexity, dot-product attention is much faster and more space-efficient in practice, since it can be implemented using highly optimized matrix multiplication code.                                                                                             \n",
        "\n",
        "                                                                        \n",
        "While for small values of $d_k$ the two mechanisms perform similarly, additive attention outperforms dot product attention without scaling for larger values of $d_k$ [(cite)](DBLP:journals/corr/BritzGLL17). We suspect that for large values of $d_k$, the dot products grow large in magnitude, pushing the softmax function into regions where it has extremely small gradients  (To illustrate why the dot products get large, assume that the components of $q$ and $k$ are independent random variables with mean $0$ and variance $1$.  Then their dot product, $q \\cdot k = \\sum_{i=1}^{d_k} q_ik_i$, has mean $0$ and variance $d_k$.). To counteract this effect, we scale the dot products by $\\frac{1}{\\sqrt{d_k}}$.          "
      ]
    },
    {
      "cell_type": "markdown",
      "metadata": {
        "id": "OV7kNMbKUgQt"
      },
      "source": []
    },
    {
      "cell_type": "markdown",
      "metadata": {
        "id": "uiaCxaGGUgQt"
      },
      "source": [
        "### Multi-Head Attention                                                                                                                                                                                                                                                                                                                                                                                                                               \n",
        "                                                                                                                                                                                                                                                                                                                                                                                                                                                                                          \n",
        "Instead of performing a single attention function with $d_{\\text{model}}$-dimensional keys, values and queries, we found it beneficial to linearly project the queries, keys and values $h$ times with different, learned linear projections to $d_k$, $d_k$ and $d_v$ dimensions, respectively.                                                                                                                                                                                                   \n",
        "On each of these projected versions of queries, keys and values we then perform the attention function in parallel, yielding $d_v$-dimensional output values. These are concatenated and once again projected, resulting in the final values:\n",
        "\n",
        "<img width=\"270px\" src=\"https://nlp.seas.harvard.edu/images/the-annotated-transformer_38_0.png\">\n",
        "                                                                                                                                                                                                                                                                                                                                                                                                                                                                                          \n",
        "Multi-head attention allows the model to jointly attend to information from different representation subspaces at different positions. With a single attention head, averaging inhibits this.                                                                                                                                                                                                                                                                                             \n",
        "    \n",
        "    \n",
        "   \n",
        "$$    \n",
        "\\mathrm{MultiHead}(Q, K, V) = \\mathrm{Concat}(\\mathrm{head_1}, ..., \\mathrm{head_h})W^O    \\\\                                           \n",
        "    \\text{where}~\\mathrm{head_i} = \\mathrm{Attention}(QW^Q_i, KW^K_i, VW^V_i)                                \n",
        "$$                                                                                                                                                                                                                                                                                                                                                                         \n",
        "                                                                                                                                                                                                                                                                                                                                                                                                                                                                                          \n",
        "Where the projections are parameter matrices $W^Q_i \\in \\mathbb{R}^{d_{\\text{model}} \\times d_k}$, $W^K_i \\in \\mathbb{R}^{d_{\\text{model}} \\times d_k}$, $W^V_i \\in \\mathbb{R}^{d_{\\text{model}} \\times d_v}$ and $W^O \\in \\mathbb{R}^{hd_v \\times d_{\\text{model}}}$.                                                                                                                                                                                                                                                        \n",
        "   \n",
        "\n",
        "   \n",
        "In this work we employ $h=8$ parallel attention layers, or heads. For each of these we use $d_k=d_v=d_{\\text{model}}/h=64$. Due to the reduced dimension of each head, the total computational cost is similar to that of single-head attention with full dimensionality.   "
      ]
    },
    {
      "cell_type": "code",
      "execution_count": 14,
      "metadata": {
        "id": "_ea0UrEgUgQt"
      },
      "outputs": [],
      "source": [
        "class MultiHeadedAttention(nn.Module):\n",
        "    def __init__(self, h, d_model, dropout=0.1):\n",
        "        \"Take in model size and number of heads.\"\n",
        "        super(MultiHeadedAttention, self).__init__()\n",
        "        assert d_model % h == 0\n",
        "        # We assume d_v always equals d_k\n",
        "        self.d_k = d_model // h\n",
        "        self.h = h\n",
        "        self.p = dropout\n",
        "        self.linears = clones(nn.Linear(d_model, d_model), 4)\n",
        "        self.attn = None\n",
        "\n",
        "    def forward(self, query, key, value, mask=None):\n",
        "        \"Implements Figure 2\"\n",
        "        if mask is not None:\n",
        "            # Same mask applied to all h heads.\n",
        "            mask = mask.unsqueeze(1)\n",
        "        nbatches = query.size(0)\n",
        "\n",
        "        # 1) Do all the linear projections in batch from d_model => h x d_k\n",
        "        query, key, value = [l(x).view(nbatches, -1, self.h, self.d_k).transpose(1, 2)\n",
        "                             for l, x in zip(self.linears, (query, key, value))]\n",
        "\n",
        "        # 2) Apply attention on all the projected vectors in batch.\n",
        "        x, self.attn = attention(query, key, value, mask=mask, dropout=self.p)\n",
        "\n",
        "        # 3) \"Concat\" using a view and apply a final linear.\n",
        "        x = x.transpose(1, 2).contiguous().view(nbatches, -1, self.h * self.d_k)\n",
        "        return self.linears[-1](x)"
      ]
    },
    {
      "cell_type": "markdown",
      "metadata": {
        "id": "aVdpQ_KwUgQv"
      },
      "source": [
        "### Applications of Attention in our Model                                                                                                                                                      \n",
        "The Transformer uses multi-head attention in three different ways:                                                        \n",
        "1) In \"encoder-decoder attention\" layers, the queries come from the previous decoder layer, and the memory keys and values come from the output of the encoder.   This allows every position in the decoder to attend over all positions in the input sequence.  This mimics the typical encoder-decoder attention mechanisms in sequence-to-sequence models such as [(cite)](wu2016google, bahdanau2014neural,JonasFaceNet2017).    \n",
        "\n",
        "\n",
        "2) The encoder contains self-attention layers.  In a self-attention layer all of the keys, values and queries come from the same place, in this case, the output of the previous layer in the encoder.   Each position in the encoder can attend to all positions in the previous layer of the encoder.                                                   \n",
        "\n",
        "\n",
        "3) Similarly, self-attention layers in the decoder allow each position in the decoder to attend to all positions in the decoder up to and including that position.  We need to prevent leftward information flow in the decoder to preserve the auto-regressive property.  We implement this inside of scaled dot-product attention by masking out (setting to $-\\infty$) all values in the input of the softmax which correspond to illegal connections.                                                                                                                                                                                                                                                      "
      ]
    },
    {
      "cell_type": "markdown",
      "metadata": {
        "id": "gERLhK-FUgQw"
      },
      "source": [
        "## Position-wise Feed-Forward Networks                                                                                                                                                                                                                                                                                                                                                             \n",
        "                                                                                                                                                                                                                                                                                                                                                                                                                                                                                          \n",
        "In addition to attention sub-layers, each of the layers in our encoder and decoder contains a fully connected feed-forward network, which is applied to each position separately and identically.  This consists of two linear transformations with a ReLU activation in between.\n",
        "\n",
        "$$\\mathrm{FFN}(x)=\\max(0, xW_1 + b_1) W_2 + b_2$$                                                                                                                                                                                                                                                         \n",
        "                                                                                                                                                                                                                                                        \n",
        "While the linear transformations are the same across different positions, they use different parameters from layer to layer. Another way of describing this is as two convolutions with kernel size 1.  The dimensionality of input and output is $d_{\\text{model}}=512$, and the inner-layer has dimensionality $d_{ff}=2048$."
      ]
    },
    {
      "cell_type": "code",
      "execution_count": 15,
      "metadata": {
        "id": "HuDPthO2UgQx"
      },
      "outputs": [],
      "source": [
        "class PositionwiseFeedForward(nn.Module):\n",
        "    \"Implements FFN equation.\"\n",
        "    def __init__(self, d_model, d_ff, dropout=0.1):\n",
        "        super(PositionwiseFeedForward, self).__init__()\n",
        "        # Torch linears have a `b` by default.\n",
        "        self.w_1 = nn.Linear(d_model, d_ff)\n",
        "        self.w_2 = nn.Linear(d_ff, d_model)\n",
        "        self.dropout = nn.Dropout(dropout)\n",
        "\n",
        "    def forward(self, x):\n",
        "        return self.w_2(self.dropout(F.relu(self.w_1(x))))"
      ]
    },
    {
      "cell_type": "markdown",
      "metadata": {
        "id": "68VLwifsUgQz"
      },
      "source": [
        "## Embeddings and Softmax                                                                                                                                                                                                                                                                                           \n",
        "Similarly to other sequence transduction models, we use learned embeddings to convert the input tokens and output tokens to vectors of dimension $d_{\\text{model}}$.  We also use the usual learned linear transformation and softmax function to convert the decoder output to predicted next-token probabilities.  In our model, we share the same weight matrix between the two embedding layers and the pre-softmax linear transformation, similar to [(cite)](press2016using). In the embedding layers, we multiply those weights by $\\sqrt{d_{\\text{model}}}$.                                                                                                                                 "
      ]
    },
    {
      "cell_type": "code",
      "execution_count": 16,
      "metadata": {
        "id": "sl5JzPeGUgQz"
      },
      "outputs": [],
      "source": [
        "class Embeddings(nn.Module):\n",
        "    def __init__(self, d_model, vocab):\n",
        "        super(Embeddings, self).__init__()\n",
        "        self.lut = nn.Embedding(vocab, d_model)\n",
        "        self.d_model = d_model\n",
        "\n",
        "    def forward(self, x):\n",
        "        return self.lut(x) * math.sqrt(self.d_model)"
      ]
    },
    {
      "cell_type": "markdown",
      "metadata": {
        "id": "F_hw5TyCUgQ1"
      },
      "source": [
        "## Positional Encoding                                                                                                                             \n",
        "Since our model contains no recurrence and no convolution, in order for the model to make use of the order of the sequence, we must inject some information about the relative or absolute position of the tokens in the sequence.  To this end, we add \"positional encodings\" to the input embeddings at the bottoms of the encoder and decoder stacks.  The positional encodings have the same dimension $d_{\\text{model}}$ as the embeddings, so that the two can be summed.   There are many choices of positional encodings, learned and fixed [(cite)](JonasFaceNet2017).\n",
        "\n",
        "In this work, we use sine and cosine functions of different frequencies:                                                                                                                                                                                                                                                                                                                                                                                                                                                                                                                                  \n",
        "$$                                                                                                                                                                                                                                                                                                                                                                                                                                                                            \n",
        "    PE_{(pos,2i)} = sin(pos / 10000^{2i/d_{\\text{model}}}) \\\\                                                                                                                                                                                                                                                                                                                                                                                                                                      \n",
        "    PE_{(pos,2i+1)} = cos(pos / 10000^{2i/d_{\\text{model}}})                                                                                                                                                                                                                                                                                                                                                                                                                                       \n",
        "$$                                                                                                                                                                                                                                                        \n",
        "where $pos$ is the position and $i$ is the dimension.  That is, each dimension of the positional encoding corresponds to a sinusoid.  The wavelengths form a geometric progression from $2\\pi$ to $10000 \\cdot 2\\pi$.  We chose this function because we hypothesized it would allow the model to easily learn to attend by relative positions, since for any fixed offset $k$, $PE_{pos+k}$ can be represented as a linear function of $PE_{pos}$.\n",
        "\n",
        "In addition, we apply dropout to the sums of the embeddings and the positional encodings in both the encoder and decoder stacks.  For the base model, we use a rate of $P_{drop}=0.1$.\n",
        "                                                                                                                                                                                                                                                    \n"
      ]
    },
    {
      "cell_type": "code",
      "execution_count": 17,
      "metadata": {
        "id": "MVsjhp6uUgQ1"
      },
      "outputs": [],
      "source": [
        "class PositionalEncoding(nn.Module):\n",
        "    \"Implement the PE function.\"\n",
        "    def __init__(self, d_model, dropout, max_len=5000):\n",
        "        super(PositionalEncoding, self).__init__()\n",
        "        self.dropout = nn.Dropout(p=dropout)\n",
        "\n",
        "        # Compute the positional encodings once in log space.\n",
        "        pe = torch.zeros(max_len, d_model)\n",
        "        position = torch.arange(0, max_len).unsqueeze(1)\n",
        "        div_term = torch.exp(torch.arange(0, d_model, 2) *\n",
        "                             -(math.log(10000.0) / d_model))\n",
        "        pe[:, 0::2] = torch.sin(position * div_term)\n",
        "        pe[:, 1::2] = torch.cos(position * div_term)\n",
        "        pe = pe.unsqueeze(0)\n",
        "        self.register_buffer('pe', pe)\n",
        "\n",
        "    def forward(self, x):\n",
        "        x = x + Variable(self.pe[:, :x.size(1)], requires_grad=False)\n",
        "        return self.dropout(x)"
      ]
    },
    {
      "cell_type": "code",
      "execution_count": 18,
      "metadata": {
        "colab": {
          "base_uri": "https://localhost:8080/",
          "height": 445
        },
        "id": "qMsBRCuLUgQ3",
        "outputId": "bc3bae21-c4d6-4184-cf0d-b9db4e957af2"
      },
      "outputs": [
        {
          "output_type": "display_data",
          "data": {
            "text/plain": [
              "<Figure size 1500x500 with 1 Axes>"
            ],
            "image/png": "[encoded data removed]"
          },
          "metadata": {}
        }
      ],
      "source": [
        "# The positional encoding will add in a sine wave based on position.\n",
        "# The frequency and offset of the wave is different for each dimension.\n",
        "plt.figure(figsize=(15, 5))\n",
        "pe = PositionalEncoding(20, 0)\n",
        "y = pe.forward(Variable(torch.zeros(1, 100, 20)))\n",
        "plt.plot(np.arange(100), y[0, :, 4:8].data.numpy())\n",
        "plt.legend([\"dim %d\"%p for p in [4,5,6,7]])\n",
        "None"
      ]
    },
    {
      "cell_type": "markdown",
      "metadata": {
        "id": "6HjtmgH1UgQ5"
      },
      "source": [
        "We also experimented with using learned positional embeddings [(cite)](JonasFaceNet2017) instead, and found that the two versions produced nearly identical results.  We chose the sinusoidal version because it may allow the model to extrapolate to sequence lengths longer than the ones encountered during training.    "
      ]
    },
    {
      "cell_type": "markdown",
      "metadata": {
        "id": "ZtnFnHH9UgQ6"
      },
      "source": [
        "## Generation"
      ]
    },
    {
      "cell_type": "code",
      "execution_count": 19,
      "metadata": {
        "id": "heaKRIaZUgQ6"
      },
      "outputs": [],
      "source": [
        "class Generator(nn.Module):\n",
        "    \"Standard generation step. (Not described in the paper.)\"\n",
        "    def __init__(self, d_model, vocab):\n",
        "        super(Generator, self).__init__()\n",
        "        self.proj = nn.Linear(d_model, vocab)\n",
        "\n",
        "    def forward(self, x):\n",
        "        return F.log_softmax(self.proj(x), dim=-1)"
      ]
    },
    {
      "cell_type": "markdown",
      "metadata": {
        "id": "dd3lP9fTUgQ9"
      },
      "source": [
        "## Full Model"
      ]
    },
    {
      "cell_type": "code",
      "execution_count": 20,
      "metadata": {
        "id": "b-LDhRoaUgQ-"
      },
      "outputs": [],
      "source": [
        "def make_model(src_vocab, tgt_vocab, N=6, d_model=512, d_ff=2048, h=8, dropout=0.1):\n",
        "    \"Construct a model object based on hyperparameters.\"\n",
        "    c = copy.deepcopy\n",
        "    attn = MultiHeadedAttention(h, d_model, dropout)\n",
        "    ff = PositionwiseFeedForward(d_model, d_ff, dropout)\n",
        "    position = PositionalEncoding(d_model, dropout)\n",
        "    model = EncoderDecoder(\n",
        "        Encoder(EncoderLayer(d_model, c(attn), c(ff), dropout), N),\n",
        "        Decoder(DecoderLayer(d_model, c(attn), c(attn), c(ff), dropout), N),\n",
        "        nn.Sequential(Embeddings(d_model, src_vocab), c(position)),\n",
        "        nn.Sequential(Embeddings(d_model, tgt_vocab), c(position)),\n",
        "        Generator(d_model, tgt_vocab))\n",
        "\n",
        "    # This was important from their code. Initialize parameters with Glorot or fan_avg.\n",
        "    for p in model.parameters():\n",
        "        if p.dim() > 1:\n",
        "            nn.init.xavier_uniform(p)\n",
        "    return model"
      ]
    },
    {
      "cell_type": "code",
      "execution_count": 21,
      "metadata": {
        "colab": {
          "base_uri": "https://localhost:8080/"
        },
        "id": "qP-g4KfhUgQ_",
        "outputId": "735179a4-ccf9-4de2-ca0b-8b871aa6be38"
      },
      "outputs": [
        {
          "output_type": "stream",
          "name": "stderr",
          "text": [
            "<ipython-input-20-1636b59b1041>:17: UserWarning: nn.init.xavier_uniform is now deprecated in favor of nn.init.xavier_uniform_.\n",
            "  nn.init.xavier_uniform(p)\n"
          ]
        },
        {
          "output_type": "execute_result",
          "data": {
            "text/plain": [
              "EncoderDecoder(\n",
              "  (encoder): Encoder(\n",
              "    (layers): ModuleList(\n",
              "      (0-1): 2 x EncoderLayer(\n",
              "        (self_attn): MultiHeadedAttention(\n",
              "          (linears): ModuleList(\n",
              "            (0-3): 4 x Linear(in_features=512, out_features=512, bias=True)\n",
              "          )\n",
              "        )\n",
              "        (feed_forward): PositionwiseFeedForward(\n",
              "          (w_1): Linear(in_features=512, out_features=2048, bias=True)\n",
              "          (w_2): Linear(in_features=2048, out_features=512, bias=True)\n",
              "          (dropout): Dropout(p=0.1, inplace=False)\n",
              "        )\n",
              "        (sublayer): ModuleList(\n",
              "          (0-1): 2 x SublayerConnection(\n",
              "            (norm): LayerNorm()\n",
              "            (dropout): Dropout(p=0.1, inplace=False)\n",
              "          )\n",
              "        )\n",
              "      )\n",
              "    )\n",
              "    (norm): LayerNorm()\n",
              "  )\n",
              "  (decoder): Decoder(\n",
              "    (layers): ModuleList(\n",
              "      (0-1): 2 x DecoderLayer(\n",
              "        (self_attn): MultiHeadedAttention(\n",
              "          (linears): ModuleList(\n",
              "            (0-3): 4 x Linear(in_features=512, out_features=512, bias=True)\n",
              "          )\n",
              "        )\n",
              "        (src_attn): MultiHeadedAttention(\n",
              "          (linears): ModuleList(\n",
              "            (0-3): 4 x Linear(in_features=512, out_features=512, bias=True)\n",
              "          )\n",
              "        )\n",
              "        (feed_forward): PositionwiseFeedForward(\n",
              "          (w_1): Linear(in_features=512, out_features=2048, bias=True)\n",
              "          (w_2): Linear(in_features=2048, out_features=512, bias=True)\n",
              "          (dropout): Dropout(p=0.1, inplace=False)\n",
              "        )\n",
              "        (sublayer): ModuleList(\n",
              "          (0-2): 3 x SublayerConnection(\n",
              "            (norm): LayerNorm()\n",
              "            (dropout): Dropout(p=0.1, inplace=False)\n",
              "          )\n",
              "        )\n",
              "      )\n",
              "    )\n",
              "    (norm): LayerNorm()\n",
              "  )\n",
              "  (src_embed): Sequential(\n",
              "    (0): Embeddings(\n",
              "      (lut): Embedding(10, 512)\n",
              "    )\n",
              "    (1): PositionalEncoding(\n",
              "      (dropout): Dropout(p=0.1, inplace=False)\n",
              "    )\n",
              "  )\n",
              "  (tgt_embed): Sequential(\n",
              "    (0): Embeddings(\n",
              "      (lut): Embedding(10, 512)\n",
              "    )\n",
              "    (1): PositionalEncoding(\n",
              "      (dropout): Dropout(p=0.1, inplace=False)\n",
              "    )\n",
              "  )\n",
              "  (generator): Generator(\n",
              "    (proj): Linear(in_features=512, out_features=10, bias=True)\n",
              "  )\n",
              ")"
            ]
          },
          "metadata": {},
          "execution_count": 21
        }
      ],
      "source": [
        "# Small example model.\n",
        "tmp_model = make_model(10, 10, 2)\n",
        "tmp_model"
      ]
    },
    {
      "cell_type": "markdown",
      "metadata": {
        "id": "MuV1e8nEUgRB"
      },
      "source": [
        "# Training\n",
        "\n",
        "This section describes the training regime for our models.\n"
      ]
    },
    {
      "cell_type": "markdown",
      "metadata": {
        "id": "Lz6n3REAUgRH"
      },
      "source": [
        "## Training Data and Batching\n",
        "\n",
        "We trained on the standard WMT 2014 English-German dataset consisting of about 4.5 million sentence pairs.  Sentences were encoded using byte-pair encoding \\citep{DBLP:journals/corr/BritzGLL17}, which has a shared source-target vocabulary of about 37000 tokens. For English-French, we used the significantly larger WMT 2014 English-French dataset consisting of 36M sentences and split tokens into a 32000 word-piece vocabulary [(cite)](wu2016google).\n",
        "\n",
        "\n",
        "Sentence pairs were batched together by approximate sequence length.  Each training batch contained a set of sentence pairs containing approximately 25000 source tokens and 25000 target tokens.     "
      ]
    },
    {
      "cell_type": "markdown",
      "metadata": {
        "id": "52xwbbb4UgRK"
      },
      "source": [
        "## Hardware and Schedule                                                                                                                                                                                                   \n",
        "We trained our models on one machine with 8 NVIDIA P100 GPUs.  For our base models using the hyperparameters described throughout the paper, each training step took about 0.4 seconds.  We trained the base models for a total of 100,000 steps or 12 hours.  For our big models, step time was 1.0 seconds.  The big models were trained for 300,000 steps (3.5 days)."
      ]
    },
    {
      "cell_type": "markdown",
      "metadata": {
        "id": "MPp__T_uUgRK"
      },
      "source": [
        "## Optimizer\n",
        "\n",
        "We used the Adam optimizer [(cite)](kingma2014adam) with $\\beta_1=0.9$, $\\beta_2=0.98$ and $\\epsilon=10^{-9}$.  We varied the learning rate over the course of training, according to the formula:                                                                                            \n",
        "$$                                                                                                                                                                                                                                                                                         \n",
        "lrate = d_{\\text{model}}^{-0.5} \\cdot                                                                                                                                                                                                                                                                                                \n",
        "  \\min({step\\_num}^{-0.5},                                                                                                                                                                                                                                                                                                  \n",
        "    {step\\_num} \\cdot {warmup\\_steps}^{-1.5})                                                                                                                                                                                                                                                                               \n",
        "$$                                                                                                                                                                                             \n",
        "This corresponds to increasing the learning rate linearly for the first $warmup\\_steps$ training steps, and decreasing it thereafter proportionally to the inverse square root of the step number.  We used $warmup\\_steps=4000$.                            "
      ]
    },
    {
      "cell_type": "code",
      "execution_count": 22,
      "metadata": {
        "id": "Q5yV0f2QUgRL"
      },
      "outputs": [],
      "source": [
        "# Note: This part is incredibly important.\n",
        "# Need to train with this setup of the model is very unstable.\n",
        "class NoamOpt:\n",
        "    \"Optim wrapper that implements rate.\"\n",
        "    def __init__(self, model_size, factor, warmup, optimizer):\n",
        "        self.optimizer = optimizer\n",
        "        self._step = 0\n",
        "        self.warmup = warmup\n",
        "        self.factor = factor\n",
        "        self.model_size = model_size\n",
        "        self._rate = 0\n",
        "\n",
        "    def step(self):\n",
        "        \"Update parameters and rate\"\n",
        "        self._step += 1\n",
        "        rate = self.rate()\n",
        "        for p in self.optimizer.param_groups:\n",
        "            p['lr'] = rate\n",
        "        self._rate = rate\n",
        "        self.optimizer.step()\n",
        "\n",
        "    def rate(self, step = None):\n",
        "        \"Implement `lrate` above\"\n",
        "        if step is None:\n",
        "            step = self._step\n",
        "        return self.factor * \\\n",
        "            (self.model_size ** (-0.5) *\n",
        "            min(step ** (-0.5), step * self.warmup**(-1.5)))\n",
        "\n",
        "def get_std_opt(model):\n",
        "    return NoamOpt(model.src_embed[0].d_model, 2, 4000,\n",
        "            torch.optim.Adam(model.parameters(), lr=0, betas=(0.9, 0.98), eps=1e-9))"
      ]
    },
    {
      "cell_type": "markdown",
      "metadata": {
        "id": "FM5n1PJxUgRN"
      },
      "source": []
    },
    {
      "cell_type": "code",
      "execution_count": 23,
      "metadata": {
        "colab": {
          "base_uri": "https://localhost:8080/",
          "height": 430
        },
        "id": "PC2wCVEFUgRO",
        "outputId": "d3c796f4-f87c-470e-c694-095f83e8972c"
      },
      "outputs": [
        {
          "output_type": "display_data",
          "data": {
            "text/plain": [
              "<Figure size 640x480 with 1 Axes>"
            ],
            "image/png": "[encoded data removed]"
          },
          "metadata": {}
        }
      ],
      "source": [
        "# Three settings of the lrate hyperparameters.\n",
        "opts = [NoamOpt(512, 1, 4000, None),\n",
        "        NoamOpt(512, 1, 8000, None),\n",
        "        NoamOpt(256, 1, 4000, None)]\n",
        "plt.plot(np.arange(1, 20000), [[opt.rate(i) for opt in opts] for i in range(1, 20000)])\n",
        "plt.legend([\"512:4000\", \"512:8000\", \"256:4000\"])\n",
        "None"
      ]
    },
    {
      "cell_type": "markdown",
      "metadata": {
        "id": "8tkzxQYKUgRQ"
      },
      "source": [
        "## Regularization                                                                                                                                                                                                                                                                                                                                                                                                                                                                                                                                                                                          \n",
        "                                                                                                                                                                                                                                                                                                                      \n",
        "### Label Smoothing\n",
        "\n",
        "During training, we employed label smoothing of value $\\epsilon_{ls}=0.1$ [(cite)](DBLP:journals/corr/SzegedyVISW15).  This hurts perplexity, as the model learns to be more unsure, but improves accuracy and BLEU score.  "
      ]
    },
    {
      "cell_type": "code",
      "execution_count": 24,
      "metadata": {
        "id": "IVWDJLXrUgRQ"
      },
      "outputs": [],
      "source": [
        "class LabelSmoothing(nn.Module):\n",
        "    \"Implement label smoothing.\"\n",
        "    def __init__(self, size, padding_idx, smoothing=0.0):\n",
        "        super(LabelSmoothing, self).__init__()\n",
        "        self.criterion = nn.KLDivLoss(size_average=False)\n",
        "        self.padding_idx = padding_idx\n",
        "        self.confidence = 1.0 - smoothing\n",
        "        self.smoothing = smoothing\n",
        "        self.size = size\n",
        "        self.true_dist = None\n",
        "\n",
        "    def forward(self, x, target):\n",
        "        assert x.size(1) == self.size\n",
        "        true_dist = x.data.clone()\n",
        "        true_dist.fill_(self.smoothing / (self.size - 2))\n",
        "        true_dist.scatter_(1, target.data.unsqueeze(1), self.confidence)\n",
        "        true_dist[:, self.padding_idx] = 0\n",
        "        mask = torch.nonzero(target.data == self.padding_idx)\n",
        "        if mask.dim() > 0:\n",
        "            true_dist.index_fill_(0, mask.squeeze(), 0.0)\n",
        "        self.true_dist = true_dist\n",
        "        return self.criterion(x, Variable(true_dist, requires_grad=False))"
      ]
    },
    {
      "cell_type": "code",
      "execution_count": 25,
      "metadata": {
        "colab": {
          "base_uri": "https://localhost:8080/",
          "height": 398
        },
        "id": "_gXwt5HVUgRT",
        "outputId": "fd2a8ab2-31db-4752-b82f-0177a64e2abc"
      },
      "outputs": [
        {
          "output_type": "stream",
          "name": "stderr",
          "text": [
            "/usr/local/lib/python3.10/dist-packages/torch/nn/_reduction.py:42: UserWarning: size_average and reduce args will be deprecated, please use reduction='sum' instead.\n",
            "  warnings.warn(warning.format(ret))\n"
          ]
        },
        {
          "output_type": "display_data",
          "data": {
            "text/plain": [
              "<Figure size 640x480 with 1 Axes>"
            ],
            "image/png": "[encoded data removed]"
          },
          "metadata": {}
        }
      ],
      "source": [
        "#Example\n",
        "crit = LabelSmoothing(5, 0, 0.5)\n",
        "predict = torch.FloatTensor([[0, 0.2, 0.7, 0.1, 0],\n",
        "                             [0, 0.2, 0.7, 0.1, 0],\n",
        "                             [0, 0.2, 0.7, 0.1, 0]])\n",
        "v = crit(Variable(predict.log()),\n",
        "         Variable(torch.LongTensor([2, 1, 0])))\n",
        "\n",
        "# Show the target distributions expected by the system.\n",
        "plt.imshow(crit.true_dist)\n",
        "None"
      ]
    },
    {
      "cell_type": "markdown",
      "metadata": {
        "id": "XoyfFgLoUgRW"
      },
      "source": [
        "### Memory Optimization"
      ]
    },
    {
      "cell_type": "code",
      "execution_count": 26,
      "metadata": {
        "id": "yVKyONFsUgRW"
      },
      "outputs": [],
      "source": [
        "def loss_backprop(generator, criterion, out, targets, normalize):\n",
        "    \"\"\"\n",
        "    Memory optmization. Compute each timestep separately and sum grads.\n",
        "    \"\"\"\n",
        "    assert out.size(1) == targets.size(1)\n",
        "    total = 0.0\n",
        "    out_grad = []\n",
        "    for i in range(out.size(1)):\n",
        "        out_column = Variable(out[:, i].data, requires_grad=True)\n",
        "        gen = generator(out_column)\n",
        "        loss = criterion(gen, targets[:, i]) / normalize\n",
        "        total += loss.data.item()\n",
        "        loss.backward()\n",
        "        out_grad.append(out_column.grad.data.clone())\n",
        "    out_grad = torch.stack(out_grad, dim=1)\n",
        "    out.backward(gradient=out_grad)\n",
        "    return total"
      ]
    },
    {
      "cell_type": "code",
      "execution_count": 27,
      "metadata": {
        "id": "LiTlbMq2UgRY"
      },
      "outputs": [],
      "source": [
        "def make_std_mask(src, tgt, pad):\n",
        "    src_mask = (src != pad).unsqueeze(-2)\n",
        "    tgt_mask = (tgt != pad).unsqueeze(-2)\n",
        "    tgt_mask = tgt_mask & Variable(subsequent_mask(tgt.size(-1)).type_as(tgt_mask.data))\n",
        "    return src_mask, tgt_mask"
      ]
    },
    {
      "cell_type": "code",
      "execution_count": 28,
      "metadata": {
        "id": "sSF9AaKJUgRZ"
      },
      "outputs": [],
      "source": [
        "def train_epoch(epoch, train_iter, model, criterion, opt, transpose=False):\n",
        "    model.train()\n",
        "    for i, batch in enumerate(train_iter):\n",
        "        src, trg, src_mask, trg_mask = \\\n",
        "            batch.src, batch.trg, batch.src_mask, batch.trg_mask\n",
        "        out = model.forward(src, trg[:, :-1], src_mask, trg_mask[:, :-1, :-1])\n",
        "        loss = loss_backprop(model.generator, criterion, out, trg[:, 1:], batch.ntokens)\n",
        "\n",
        "        model_opt.step()\n",
        "        model_opt.optimizer.zero_grad()\n",
        "        if i % 10 == 1:\n",
        "            print(\"train epoch:\", epoch, \"batch:\", i, \"loss:\", loss, \"lr:\", model_opt._rate)"
      ]
    },
    {
      "cell_type": "code",
      "execution_count": 29,
      "metadata": {
        "id": "q4kFYs7nUgRb"
      },
      "outputs": [],
      "source": [
        "def valid_epoch(epoch, valid_iter, model, criterion, transpose=False):\n",
        "    model.eval()\n",
        "    total = 0\n",
        "    for batch in valid_iter:\n",
        "        src, trg, src_mask, trg_mask = \\\n",
        "            batch.src, batch.trg, batch.src_mask, batch.trg_mask\n",
        "        out = model.forward(src, trg[:, :-1], src_mask, trg_mask[:, :-1, :-1])\n",
        "        loss = loss_backprop(model.generator, criterion, out, trg[:, 1:], batch.ntokens)\n",
        "        print(\"valid epoch:\", epoch, \"loss:\", loss)\n"
      ]
    },
    {
      "cell_type": "code",
      "execution_count": 30,
      "metadata": {
        "id": "uJo5AZasUgRd"
      },
      "outputs": [],
      "source": [
        "class Batch:\n",
        "    def __init__(self, src, trg, src_mask, trg_mask, ntokens):\n",
        "        self.src = src\n",
        "        self.trg = trg\n",
        "        self.src_mask = src_mask\n",
        "        self.trg_mask = trg_mask\n",
        "        self.ntokens = ntokens\n",
        "\n",
        "def data_gen(V, batch, nbatches):\n",
        "    for i in range(nbatches):\n",
        "        data = torch.from_numpy(np.random.randint(1, V, size=(batch, 10)))\n",
        "        src = Variable(data, requires_grad=False)\n",
        "        tgt = Variable(data, requires_grad=False)\n",
        "        src_mask, tgt_mask = make_std_mask(src, tgt, 0)\n",
        "        yield Batch(src, tgt, src_mask, tgt_mask, (tgt[1:] != 0).data.sum())"
      ]
    },
    {
      "cell_type": "code",
      "execution_count": 31,
      "metadata": {
        "colab": {
          "base_uri": "https://localhost:8080/"
        },
        "id": "vrpU5b2sUgRe",
        "outputId": "e3aeaef0-8569-47e0-98c0-87cfbea74f63"
      },
      "outputs": [
        {
          "output_type": "stream",
          "name": "stderr",
          "text": [
            "<ipython-input-20-1636b59b1041>:17: UserWarning: nn.init.xavier_uniform is now deprecated in favor of nn.init.xavier_uniform_.\n",
            "  nn.init.xavier_uniform(p)\n"
          ]
        },
        {
          "output_type": "stream",
          "name": "stdout",
          "text": [
            "train epoch: 0 batch: 1 loss: 2.986326575279236 lr: 6.987712429686844e-07\n",
            "train epoch: 0 batch: 11 loss: 2.7130610644817352 lr: 4.192627457812107e-06\n",
            "train epoch: 1 batch: 1 loss: 2.49091300368309 lr: 7.686483672655528e-06\n",
            "train epoch: 1 batch: 11 loss: 2.3238022178411484 lr: 1.118033988749895e-05\n"
          ]
        }
      ],
      "source": [
        "V = 11\n",
        "criterion = LabelSmoothing(size=V, padding_idx=0, smoothing=0.0)\n",
        "model = make_model(V, V, N=2)\n",
        "model_opt = get_std_opt(model)\n",
        "for epoch in range(2):\n",
        "    train_epoch(epoch, data_gen(V, 30, 20), model, criterion, model_opt)"
      ]
    },
    {
      "cell_type": "markdown",
      "metadata": {
        "id": "5S2BcIoOUgRg"
      },
      "source": [
        "# A Real World Example"
      ]
    },
    {
      "cell_type": "code",
      "execution_count": 32,
      "metadata": {
        "id": "aP_oq0kLUgRh"
      },
      "outputs": [],
      "source": [
        "# For data loading.\n",
        "from torchtext import data, datasets"
      ]
    },
    {
      "cell_type": "code",
      "execution_count": 33,
      "metadata": {
        "colab": {
          "base_uri": "https://localhost:8080/"
        },
        "id": "eKynVliVXg6F",
        "outputId": "aa5b9bfa-b786-45b8-ceab-85af16220f67"
      },
      "outputs": [
        {
          "output_type": "stream",
          "name": "stdout",
          "text": [
            "Requirement already satisfied: torchtext in /usr/local/lib/python3.10/dist-packages (0.6.0)\n",
            "Requirement already satisfied: spacy in /usr/local/lib/python3.10/dist-packages (3.6.1)\n",
            "Requirement already satisfied: tqdm in /usr/local/lib/python3.10/dist-packages (from torchtext) (4.66.1)\n",
            "Requirement already satisfied: requests in /usr/local/lib/python3.10/dist-packages (from torchtext) (2.31.0)\n",
            "Requirement already satisfied: torch in /usr/local/lib/python3.10/dist-packages (from torchtext) (2.1.0+cu118)\n",
            "Requirement already satisfied: numpy in /usr/local/lib/python3.10/dist-packages (from torchtext) (1.23.5)\n",
            "Requirement already satisfied: six in /usr/local/lib/python3.10/dist-packages (from torchtext) (1.16.0)\n",
            "Requirement already satisfied: sentencepiece in /usr/local/lib/python3.10/dist-packages (from torchtext) (0.1.99)\n",
            "Requirement already satisfied: spacy-legacy<3.1.0,>=3.0.11 in /usr/local/lib/python3.10/dist-packages (from spacy) (3.0.12)\n",
            "Requirement already satisfied: spacy-loggers<2.0.0,>=1.0.0 in /usr/local/lib/python3.10/dist-packages (from spacy) (1.0.5)\n",
            "Requirement already satisfied: murmurhash<1.1.0,>=0.28.0 in /usr/local/lib/python3.10/dist-packages (from spacy) (1.0.10)\n",
            "Requirement already satisfied: cymem<2.1.0,>=2.0.2 in /usr/local/lib/python3.10/dist-packages (from spacy) (2.0.8)\n",
            "Requirement already satisfied: preshed<3.1.0,>=3.0.2 in /usr/local/lib/python3.10/dist-packages (from spacy) (3.0.9)\n",
            "Requirement already satisfied: thinc<8.2.0,>=8.1.8 in /usr/local/lib/python3.10/dist-packages (from spacy) (8.1.12)\n",
            "Requirement already satisfied: wasabi<1.2.0,>=0.9.1 in /usr/local/lib/python3.10/dist-packages (from spacy) (1.1.2)\n",
            "Requirement already satisfied: srsly<3.0.0,>=2.4.3 in /usr/local/lib/python3.10/dist-packages (from spacy) (2.4.8)\n",
            "Requirement already satisfied: catalogue<2.1.0,>=2.0.6 in /usr/local/lib/python3.10/dist-packages (from spacy) (2.0.10)\n",
            "Requirement already satisfied: typer<0.10.0,>=0.3.0 in /usr/local/lib/python3.10/dist-packages (from spacy) (0.9.0)\n",
            "Requirement already satisfied: pathy>=0.10.0 in /usr/local/lib/python3.10/dist-packages (from spacy) (0.10.3)\n",
            "Requirement already satisfied: smart-open<7.0.0,>=5.2.1 in /usr/local/lib/python3.10/dist-packages (from spacy) (6.4.0)\n",
            "Requirement already satisfied: pydantic!=1.8,!=1.8.1,<3.0.0,>=1.7.4 in /usr/local/lib/python3.10/dist-packages (from spacy) (1.10.13)\n",
            "Requirement already satisfied: jinja2 in /usr/local/lib/python3.10/dist-packages (from spacy) (3.1.2)\n",
            "Requirement already satisfied: setuptools in /usr/local/lib/python3.10/dist-packages (from spacy) (67.7.2)\n",
            "Requirement already satisfied: packaging>=20.0 in /usr/local/lib/python3.10/dist-packages (from spacy) (23.2)\n",
            "Requirement already satisfied: langcodes<4.0.0,>=3.2.0 in /usr/local/lib/python3.10/dist-packages (from spacy) (3.3.0)\n",
            "Requirement already satisfied: typing-extensions>=4.2.0 in /usr/local/lib/python3.10/dist-packages (from pydantic!=1.8,!=1.8.1,<3.0.0,>=1.7.4->spacy) (4.5.0)\n",
            "Requirement already satisfied: charset-normalizer<4,>=2 in /usr/local/lib/python3.10/dist-packages (from requests->torchtext) (3.3.2)\n",
            "Requirement already satisfied: idna<4,>=2.5 in /usr/local/lib/python3.10/dist-packages (from requests->torchtext) (3.4)\n",
            "Requirement already satisfied: urllib3<3,>=1.21.1 in /usr/local/lib/python3.10/dist-packages (from requests->torchtext) (2.0.7)\n",
            "Requirement already satisfied: certifi>=2017.4.17 in /usr/local/lib/python3.10/dist-packages (from requests->torchtext) (2023.7.22)\n",
            "Requirement already satisfied: blis<0.8.0,>=0.7.8 in /usr/local/lib/python3.10/dist-packages (from thinc<8.2.0,>=8.1.8->spacy) (0.7.11)\n",
            "Requirement already satisfied: confection<1.0.0,>=0.0.1 in /usr/local/lib/python3.10/dist-packages (from thinc<8.2.0,>=8.1.8->spacy) (0.1.3)\n",
            "Requirement already satisfied: click<9.0.0,>=7.1.1 in /usr/local/lib/python3.10/dist-packages (from typer<0.10.0,>=0.3.0->spacy) (8.1.7)\n",
            "Requirement already satisfied: MarkupSafe>=2.0 in /usr/local/lib/python3.10/dist-packages (from jinja2->spacy) (2.1.3)\n",
            "Requirement already satisfied: filelock in /usr/local/lib/python3.10/dist-packages (from torch->torchtext) (3.13.1)\n",
            "Requirement already satisfied: sympy in /usr/local/lib/python3.10/dist-packages (from torch->torchtext) (1.12)\n",
            "Requirement already satisfied: networkx in /usr/local/lib/python3.10/dist-packages (from torch->torchtext) (3.2.1)\n",
            "Requirement already satisfied: fsspec in /usr/local/lib/python3.10/dist-packages (from torch->torchtext) (2023.6.0)\n",
            "Requirement already satisfied: triton==2.1.0 in /usr/local/lib/python3.10/dist-packages (from torch->torchtext) (2.1.0)\n",
            "Requirement already satisfied: mpmath>=0.19 in /usr/local/lib/python3.10/dist-packages (from sympy->torch->torchtext) (1.3.0)\n",
            "2023-11-11 09:51:15.993916: E tensorflow/compiler/xla/stream_executor/cuda/cuda_dnn.cc:9342] Unable to register cuDNN factory: Attempting to register factory for plugin cuDNN when one has already been registered\n",
            "2023-11-11 09:51:15.994899: E tensorflow/compiler/xla/stream_executor/cuda/cuda_fft.cc:609] Unable to register cuFFT factory: Attempting to register factory for plugin cuFFT when one has already been registered\n",
            "2023-11-11 09:51:15.994967: E tensorflow/compiler/xla/stream_executor/cuda/cuda_blas.cc:1518] Unable to register cuBLAS factory: Attempting to register factory for plugin cuBLAS when one has already been registered\n",
            "2023-11-11 09:51:16.006051: I tensorflow/core/platform/cpu_feature_guard.cc:182] This TensorFlow binary is optimized to use available CPU instructions in performance-critical operations.\n",
            "To enable the following instructions: AVX2 AVX512F FMA, in other operations, rebuild TensorFlow with the appropriate compiler flags.\n",
            "2023-11-11 09:51:17.254099: W tensorflow/compiler/tf2tensorrt/utils/py_utils.cc:38] TF-TRT Warning: Could not find TensorRT\n",
            "2023-11-11 09:51:18.686091: I tensorflow/compiler/xla/stream_executor/cuda/cuda_gpu_executor.cc:894] successful NUMA node read from SysFS had negative value (-1), but there must be at least one NUMA node, so returning NUMA node zero. See more at https://github.com/torvalds/linux/blob/v6.0/Documentation/ABI/testing/sysfs-bus-pci#L344-L355\n",
            "2023-11-11 09:51:18.686563: I tensorflow/compiler/xla/stream_executor/cuda/cuda_gpu_executor.cc:894] successful NUMA node read from SysFS had negative value (-1), but there must be at least one NUMA node, so returning NUMA node zero. See more at https://github.com/torvalds/linux/blob/v6.0/Documentation/ABI/testing/sysfs-bus-pci#L344-L355\n",
            "2023-11-11 09:51:18.686733: I tensorflow/compiler/xla/stream_executor/cuda/cuda_gpu_executor.cc:894] successful NUMA node read from SysFS had negative value (-1), but there must be at least one NUMA node, so returning NUMA node zero. See more at https://github.com/torvalds/linux/blob/v6.0/Documentation/ABI/testing/sysfs-bus-pci#L344-L355\n",
            "\u001b[38;5;3m⚠ As of spaCy v3.0, shortcuts like 'en' are deprecated. Please use the\n",
            "full pipeline package name 'en_core_web_sm' instead.\u001b[0m\n",
            "Collecting en-core-web-sm==3.6.0\n",
            "  Downloading https://github.com/explosion/spacy-models/releases/download/en_core_web_sm-3.6.0/en_core_web_sm-3.6.0-py3-none-any.whl (12.8 MB)\n",
            "\u001b[2K     \u001b[90m━━━━━━━━━━━━━━━━━━━━━━━━━━━━━━━━━━━━━━━━\u001b[0m \u001b[32m12.8/12.8 MB\u001b[0m \u001b[31m41.8 MB/s\u001b[0m eta \u001b[36m0:00:00\u001b[0m\n",
            "\u001b[?25hRequirement already satisfied: spacy<3.7.0,>=3.6.0 in /usr/local/lib/python3.10/dist-packages (from en-core-web-sm==3.6.0) (3.6.1)\n",
            "Requirement already satisfied: spacy-legacy<3.1.0,>=3.0.11 in /usr/local/lib/python3.10/dist-packages (from spacy<3.7.0,>=3.6.0->en-core-web-sm==3.6.0) (3.0.12)\n",
            "Requirement already satisfied: spacy-loggers<2.0.0,>=1.0.0 in /usr/local/lib/python3.10/dist-packages (from spacy<3.7.0,>=3.6.0->en-core-web-sm==3.6.0) (1.0.5)\n",
            "Requirement already satisfied: murmurhash<1.1.0,>=0.28.0 in /usr/local/lib/python3.10/dist-packages (from spacy<3.7.0,>=3.6.0->en-core-web-sm==3.6.0) (1.0.10)\n",
            "Requirement already satisfied: cymem<2.1.0,>=2.0.2 in /usr/local/lib/python3.10/dist-packages (from spacy<3.7.0,>=3.6.0->en-core-web-sm==3.6.0) (2.0.8)\n",
            "Requirement already satisfied: preshed<3.1.0,>=3.0.2 in /usr/local/lib/python3.10/dist-packages (from spacy<3.7.0,>=3.6.0->en-core-web-sm==3.6.0) (3.0.9)\n",
            "Requirement already satisfied: thinc<8.2.0,>=8.1.8 in /usr/local/lib/python3.10/dist-packages (from spacy<3.7.0,>=3.6.0->en-core-web-sm==3.6.0) (8.1.12)\n",
            "Requirement already satisfied: wasabi<1.2.0,>=0.9.1 in /usr/local/lib/python3.10/dist-packages (from spacy<3.7.0,>=3.6.0->en-core-web-sm==3.6.0) (1.1.2)\n",
            "Requirement already satisfied: srsly<3.0.0,>=2.4.3 in /usr/local/lib/python3.10/dist-packages (from spacy<3.7.0,>=3.6.0->en-core-web-sm==3.6.0) (2.4.8)\n",
            "Requirement already satisfied: catalogue<2.1.0,>=2.0.6 in /usr/local/lib/python3.10/dist-packages (from spacy<3.7.0,>=3.6.0->en-core-web-sm==3.6.0) (2.0.10)\n",
            "Requirement already satisfied: typer<0.10.0,>=0.3.0 in /usr/local/lib/python3.10/dist-packages (from spacy<3.7.0,>=3.6.0->en-core-web-sm==3.6.0) (0.9.0)\n",
            "Requirement already satisfied: pathy>=0.10.0 in /usr/local/lib/python3.10/dist-packages (from spacy<3.7.0,>=3.6.0->en-core-web-sm==3.6.0) (0.10.3)\n",
            "Requirement already satisfied: smart-open<7.0.0,>=5.2.1 in /usr/local/lib/python3.10/dist-packages (from spacy<3.7.0,>=3.6.0->en-core-web-sm==3.6.0) (6.4.0)\n",
            "Requirement already satisfied: tqdm<5.0.0,>=4.38.0 in /usr/local/lib/python3.10/dist-packages (from spacy<3.7.0,>=3.6.0->en-core-web-sm==3.6.0) (4.66.1)\n",
            "Requirement already satisfied: numpy>=1.15.0 in /usr/local/lib/python3.10/dist-packages (from spacy<3.7.0,>=3.6.0->en-core-web-sm==3.6.0) (1.23.5)\n",
            "Requirement already satisfied: requests<3.0.0,>=2.13.0 in /usr/local/lib/python3.10/dist-packages (from spacy<3.7.0,>=3.6.0->en-core-web-sm==3.6.0) (2.31.0)\n",
            "Requirement already satisfied: pydantic!=1.8,!=1.8.1,<3.0.0,>=1.7.4 in /usr/local/lib/python3.10/dist-packages (from spacy<3.7.0,>=3.6.0->en-core-web-sm==3.6.0) (1.10.13)\n",
            "Requirement already satisfied: jinja2 in /usr/local/lib/python3.10/dist-packages (from spacy<3.7.0,>=3.6.0->en-core-web-sm==3.6.0) (3.1.2)\n",
            "Requirement already satisfied: setuptools in /usr/local/lib/python3.10/dist-packages (from spacy<3.7.0,>=3.6.0->en-core-web-sm==3.6.0) (67.7.2)\n",
            "Requirement already satisfied: packaging>=20.0 in /usr/local/lib/python3.10/dist-packages (from spacy<3.7.0,>=3.6.0->en-core-web-sm==3.6.0) (23.2)\n",
            "Requirement already satisfied: langcodes<4.0.0,>=3.2.0 in /usr/local/lib/python3.10/dist-packages (from spacy<3.7.0,>=3.6.0->en-core-web-sm==3.6.0) (3.3.0)\n",
            "Requirement already satisfied: typing-extensions>=4.2.0 in /usr/local/lib/python3.10/dist-packages (from pydantic!=1.8,!=1.8.1,<3.0.0,>=1.7.4->spacy<3.7.0,>=3.6.0->en-core-web-sm==3.6.0) (4.5.0)\n",
            "Requirement already satisfied: charset-normalizer<4,>=2 in /usr/local/lib/python3.10/dist-packages (from requests<3.0.0,>=2.13.0->spacy<3.7.0,>=3.6.0->en-core-web-sm==3.6.0) (3.3.2)\n",
            "Requirement already satisfied: idna<4,>=2.5 in /usr/local/lib/python3.10/dist-packages (from requests<3.0.0,>=2.13.0->spacy<3.7.0,>=3.6.0->en-core-web-sm==3.6.0) (3.4)\n",
            "Requirement already satisfied: urllib3<3,>=1.21.1 in /usr/local/lib/python3.10/dist-packages (from requests<3.0.0,>=2.13.0->spacy<3.7.0,>=3.6.0->en-core-web-sm==3.6.0) (2.0.7)\n",
            "Requirement already satisfied: certifi>=2017.4.17 in /usr/local/lib/python3.10/dist-packages (from requests<3.0.0,>=2.13.0->spacy<3.7.0,>=3.6.0->en-core-web-sm==3.6.0) (2023.7.22)\n",
            "Requirement already satisfied: blis<0.8.0,>=0.7.8 in /usr/local/lib/python3.10/dist-packages (from thinc<8.2.0,>=8.1.8->spacy<3.7.0,>=3.6.0->en-core-web-sm==3.6.0) (0.7.11)\n",
            "Requirement already satisfied: confection<1.0.0,>=0.0.1 in /usr/local/lib/python3.10/dist-packages (from thinc<8.2.0,>=8.1.8->spacy<3.7.0,>=3.6.0->en-core-web-sm==3.6.0) (0.1.3)\n",
            "Requirement already satisfied: click<9.0.0,>=7.1.1 in /usr/local/lib/python3.10/dist-packages (from typer<0.10.0,>=0.3.0->spacy<3.7.0,>=3.6.0->en-core-web-sm==3.6.0) (8.1.7)\n",
            "Requirement already satisfied: MarkupSafe>=2.0 in /usr/local/lib/python3.10/dist-packages (from jinja2->spacy<3.7.0,>=3.6.0->en-core-web-sm==3.6.0) (2.1.3)\n",
            "\u001b[38;5;2m✔ Download and installation successful\u001b[0m\n",
            "You can now load the package via spacy.load('en_core_web_sm')\n",
            "2023-11-11 09:51:30.137790: E tensorflow/compiler/xla/stream_executor/cuda/cuda_dnn.cc:9342] Unable to register cuDNN factory: Attempting to register factory for plugin cuDNN when one has already been registered\n",
            "2023-11-11 09:51:30.137853: E tensorflow/compiler/xla/stream_executor/cuda/cuda_fft.cc:609] Unable to register cuFFT factory: Attempting to register factory for plugin cuFFT when one has already been registered\n",
            "2023-11-11 09:51:30.137890: E tensorflow/compiler/xla/stream_executor/cuda/cuda_blas.cc:1518] Unable to register cuBLAS factory: Attempting to register factory for plugin cuBLAS when one has already been registered\n",
            "2023-11-11 09:51:30.148317: I tensorflow/core/platform/cpu_feature_guard.cc:182] This TensorFlow binary is optimized to use available CPU instructions in performance-critical operations.\n",
            "To enable the following instructions: AVX2 AVX512F FMA, in other operations, rebuild TensorFlow with the appropriate compiler flags.\n",
            "2023-11-11 09:51:31.270175: W tensorflow/compiler/tf2tensorrt/utils/py_utils.cc:38] TF-TRT Warning: Could not find TensorRT\n",
            "2023-11-11 09:51:32.708640: I tensorflow/compiler/xla/stream_executor/cuda/cuda_gpu_executor.cc:894] successful NUMA node read from SysFS had negative value (-1), but there must be at least one NUMA node, so returning NUMA node zero. See more at https://github.com/torvalds/linux/blob/v6.0/Documentation/ABI/testing/sysfs-bus-pci#L344-L355\n",
            "2023-11-11 09:51:32.709035: I tensorflow/compiler/xla/stream_executor/cuda/cuda_gpu_executor.cc:894] successful NUMA node read from SysFS had negative value (-1), but there must be at least one NUMA node, so returning NUMA node zero. See more at https://github.com/torvalds/linux/blob/v6.0/Documentation/ABI/testing/sysfs-bus-pci#L344-L355\n",
            "2023-11-11 09:51:32.709198: I tensorflow/compiler/xla/stream_executor/cuda/cuda_gpu_executor.cc:894] successful NUMA node read from SysFS had negative value (-1), but there must be at least one NUMA node, so returning NUMA node zero. See more at https://github.com/torvalds/linux/blob/v6.0/Documentation/ABI/testing/sysfs-bus-pci#L344-L355\n",
            "\u001b[38;5;3m⚠ As of spaCy v3.0, shortcuts like 'de' are deprecated. Please use the\n",
            "full pipeline package name 'de_core_news_sm' instead.\u001b[0m\n",
            "Collecting de-core-news-sm==3.6.0\n",
            "  Downloading https://github.com/explosion/spacy-models/releases/download/de_core_news_sm-3.6.0/de_core_news_sm-3.6.0-py3-none-any.whl (14.6 MB)\n",
            "\u001b[2K     \u001b[90m━━━━━━━━━━━━━━━━━━━━━━━━━━━━━━━━━━━━━━━━\u001b[0m \u001b[32m14.6/14.6 MB\u001b[0m \u001b[31m50.3 MB/s\u001b[0m eta \u001b[36m0:00:00\u001b[0m\n",
            "\u001b[?25hRequirement already satisfied: spacy<3.7.0,>=3.6.0 in /usr/local/lib/python3.10/dist-packages (from de-core-news-sm==3.6.0) (3.6.1)\n",
            "Requirement already satisfied: spacy-legacy<3.1.0,>=3.0.11 in /usr/local/lib/python3.10/dist-packages (from spacy<3.7.0,>=3.6.0->de-core-news-sm==3.6.0) (3.0.12)\n",
            "Requirement already satisfied: spacy-loggers<2.0.0,>=1.0.0 in /usr/local/lib/python3.10/dist-packages (from spacy<3.7.0,>=3.6.0->de-core-news-sm==3.6.0) (1.0.5)\n",
            "Requirement already satisfied: murmurhash<1.1.0,>=0.28.0 in /usr/local/lib/python3.10/dist-packages (from spacy<3.7.0,>=3.6.0->de-core-news-sm==3.6.0) (1.0.10)\n",
            "Requirement already satisfied: cymem<2.1.0,>=2.0.2 in /usr/local/lib/python3.10/dist-packages (from spacy<3.7.0,>=3.6.0->de-core-news-sm==3.6.0) (2.0.8)\n",
            "Requirement already satisfied: preshed<3.1.0,>=3.0.2 in /usr/local/lib/python3.10/dist-packages (from spacy<3.7.0,>=3.6.0->de-core-news-sm==3.6.0) (3.0.9)\n",
            "Requirement already satisfied: thinc<8.2.0,>=8.1.8 in /usr/local/lib/python3.10/dist-packages (from spacy<3.7.0,>=3.6.0->de-core-news-sm==3.6.0) (8.1.12)\n",
            "Requirement already satisfied: wasabi<1.2.0,>=0.9.1 in /usr/local/lib/python3.10/dist-packages (from spacy<3.7.0,>=3.6.0->de-core-news-sm==3.6.0) (1.1.2)\n",
            "Requirement already satisfied: srsly<3.0.0,>=2.4.3 in /usr/local/lib/python3.10/dist-packages (from spacy<3.7.0,>=3.6.0->de-core-news-sm==3.6.0) (2.4.8)\n",
            "Requirement already satisfied: catalogue<2.1.0,>=2.0.6 in /usr/local/lib/python3.10/dist-packages (from spacy<3.7.0,>=3.6.0->de-core-news-sm==3.6.0) (2.0.10)\n",
            "Requirement already satisfied: typer<0.10.0,>=0.3.0 in /usr/local/lib/python3.10/dist-packages (from spacy<3.7.0,>=3.6.0->de-core-news-sm==3.6.0) (0.9.0)\n",
            "Requirement already satisfied: pathy>=0.10.0 in /usr/local/lib/python3.10/dist-packages (from spacy<3.7.0,>=3.6.0->de-core-news-sm==3.6.0) (0.10.3)\n",
            "Requirement already satisfied: smart-open<7.0.0,>=5.2.1 in /usr/local/lib/python3.10/dist-packages (from spacy<3.7.0,>=3.6.0->de-core-news-sm==3.6.0) (6.4.0)\n",
            "Requirement already satisfied: tqdm<5.0.0,>=4.38.0 in /usr/local/lib/python3.10/dist-packages (from spacy<3.7.0,>=3.6.0->de-core-news-sm==3.6.0) (4.66.1)\n",
            "Requirement already satisfied: numpy>=1.15.0 in /usr/local/lib/python3.10/dist-packages (from spacy<3.7.0,>=3.6.0->de-core-news-sm==3.6.0) (1.23.5)\n",
            "Requirement already satisfied: requests<3.0.0,>=2.13.0 in /usr/local/lib/python3.10/dist-packages (from spacy<3.7.0,>=3.6.0->de-core-news-sm==3.6.0) (2.31.0)\n",
            "Requirement already satisfied: pydantic!=1.8,!=1.8.1,<3.0.0,>=1.7.4 in /usr/local/lib/python3.10/dist-packages (from spacy<3.7.0,>=3.6.0->de-core-news-sm==3.6.0) (1.10.13)\n",
            "Requirement already satisfied: jinja2 in /usr/local/lib/python3.10/dist-packages (from spacy<3.7.0,>=3.6.0->de-core-news-sm==3.6.0) (3.1.2)\n",
            "Requirement already satisfied: setuptools in /usr/local/lib/python3.10/dist-packages (from spacy<3.7.0,>=3.6.0->de-core-news-sm==3.6.0) (67.7.2)\n",
            "Requirement already satisfied: packaging>=20.0 in /usr/local/lib/python3.10/dist-packages (from spacy<3.7.0,>=3.6.0->de-core-news-sm==3.6.0) (23.2)\n",
            "Requirement already satisfied: langcodes<4.0.0,>=3.2.0 in /usr/local/lib/python3.10/dist-packages (from spacy<3.7.0,>=3.6.0->de-core-news-sm==3.6.0) (3.3.0)\n",
            "Requirement already satisfied: typing-extensions>=4.2.0 in /usr/local/lib/python3.10/dist-packages (from pydantic!=1.8,!=1.8.1,<3.0.0,>=1.7.4->spacy<3.7.0,>=3.6.0->de-core-news-sm==3.6.0) (4.5.0)\n",
            "Requirement already satisfied: charset-normalizer<4,>=2 in /usr/local/lib/python3.10/dist-packages (from requests<3.0.0,>=2.13.0->spacy<3.7.0,>=3.6.0->de-core-news-sm==3.6.0) (3.3.2)\n",
            "Requirement already satisfied: idna<4,>=2.5 in /usr/local/lib/python3.10/dist-packages (from requests<3.0.0,>=2.13.0->spacy<3.7.0,>=3.6.0->de-core-news-sm==3.6.0) (3.4)\n",
            "Requirement already satisfied: urllib3<3,>=1.21.1 in /usr/local/lib/python3.10/dist-packages (from requests<3.0.0,>=2.13.0->spacy<3.7.0,>=3.6.0->de-core-news-sm==3.6.0) (2.0.7)\n",
            "Requirement already satisfied: certifi>=2017.4.17 in /usr/local/lib/python3.10/dist-packages (from requests<3.0.0,>=2.13.0->spacy<3.7.0,>=3.6.0->de-core-news-sm==3.6.0) (2023.7.22)\n",
            "Requirement already satisfied: blis<0.8.0,>=0.7.8 in /usr/local/lib/python3.10/dist-packages (from thinc<8.2.0,>=8.1.8->spacy<3.7.0,>=3.6.0->de-core-news-sm==3.6.0) (0.7.11)\n",
            "Requirement already satisfied: confection<1.0.0,>=0.0.1 in /usr/local/lib/python3.10/dist-packages (from thinc<8.2.0,>=8.1.8->spacy<3.7.0,>=3.6.0->de-core-news-sm==3.6.0) (0.1.3)\n",
            "Requirement already satisfied: click<9.0.0,>=7.1.1 in /usr/local/lib/python3.10/dist-packages (from typer<0.10.0,>=0.3.0->spacy<3.7.0,>=3.6.0->de-core-news-sm==3.6.0) (8.1.7)\n",
            "Requirement already satisfied: MarkupSafe>=2.0 in /usr/local/lib/python3.10/dist-packages (from jinja2->spacy<3.7.0,>=3.6.0->de-core-news-sm==3.6.0) (2.1.3)\n",
            "Installing collected packages: de-core-news-sm\n",
            "Successfully installed de-core-news-sm-3.6.0\n",
            "\u001b[38;5;2m✔ Download and installation successful\u001b[0m\n",
            "You can now load the package via spacy.load('de_core_news_sm')\n"
          ]
        }
      ],
      "source": [
        "!pip install torchtext spacy\n",
        "!python -m spacy download en\n",
        "!python -m spacy download de"
      ]
    },
    {
      "cell_type": "markdown",
      "source": [
        "*Now do the following steps:\n",
        "1. Download the iwslt14.zip from eLearn to your PC\n",
        "2. Upload it to the /content/ folder on the Colab.\n",
        "3. The upload may take several minutes depending on traffic. Wait until it's fully uploaded. *\n",
        "\n",
        "![image.png](data:image/png;base64,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)\n",
        "![image.png](data:image/png;base64,iVBORw0KGgoAAAANSUhEUgAAALQAAABrCAYAAADepajIAAAPoklEQVR4Ae2dT2wbVR7H97yXlfaw97lZ8iFaDtVyIKdGHDbiUItLb4aUpvxp2NKSgoIV1DWtUGhFSRHBKgpWaGWFfy6q6kNZs6Q1lMhIRC5Q3K1SFxRqVVkNbbrTkPa7+r2ZN35jjz1O4vHYzm8ky+M38/5932fe/ObNez//AbyxAj2kwB96qC5cFVYADDRD0FMKMNA91ZxcGQaaGegpBRjonmpOrgwDzQz0lAIMdE81J1eGgWYGekoBBhrArVu3cPbsWXz66aeOD4Wtra31VIP3emW2PNC6rmPXrl2IRqOunzfeeIOh7qKrYMsD/dNPP7mCrAL+8ssv48iRI66fY8eOIZ/Pd1GT93ZRtzzQV65c8QRahbvePpktvAWvAAPtAvSTTz6Jr7/+GolEomnY6cLgLXgFtjzQP/74owNaglmaEA8ePMD09LTjeL0emtLhLXgFGGgFaIL5u+++q2mVmZkZT6gZ6BrZAgnY8kD/8MMPAtahoSFXmGWrpFKphlAz0FKpYL8ZaAvo559/3h7FoKE8uS0sLNjh1IPXMznYhpaKBfvNQFtAq6CqIxZzc3N1IVbjePbQS1kkpjIoGmaDG5fTmJjJo3LpBAtCr+TOQLcJaCMXR194FBmL4NLpnQhtT6DYKyR1SD0YaBegv/nmG5BtTZ/Z2dmmemg2OTqD6C0PdKterNAbR96CV2DLA+01l0O1k+vtDw8P4/bt28G3JpeguUWyS0tL+OKLL3D58uWmJPv++++RzWbFLLamIgR8Ur3ZdtWz79x+nzt3DsvLywHXgLOXCnj20BcuXBA25NTUFAjsZrb79++LC4B6tK+++qqZKHwOK9ASBTyBHh8fF9MrCdL1bjQtk+Lzxgq0SwFPoPfv34+nn37aUZ7ffvtN9MAnT57Ee++9J47duXMHJ06cwKlTp+xzn3vuORw4cMD+zTusgN8KeAL9wgsvYM+ePY5ykBnx7rvvgt6ukVlx7do1vPbaa+I3QSxXeTDQDtn4RxsU8ATarYeW5froo48E0HTOZ599JoPtbwL6xRdftH/zDivgtwINgabpk88++yxGR0ddy0GjHtRDj42NuR4/ePAg9u7d63qMA1kBPxSoCzSNaNDIxhNPPFF3pOLmzZsCaFqi5LbRCAnFp5lqzY6QuKXDYaxAswo0BFrOA85kMjXpUe/9+uuv46mnnhJQ04Ni9XbmzBlx7IMPPmCgq8Xh374oUBdomRuNcLz00kvyp/1NkL/55ptiVIPMjkuXLoHC1HHnffv2CZPFjsQ7rIDPCngCTQ98IyMjohiGYYiRjFdffRUUvrKygvn5edEL04gHDdHdvXvXLjI9FMq4diDvdIwC5dkotGgK5Y4p0eYL0hTQBCZtZGa88847eOutt/Dzzz+LsHv37omeemJiAtevX3eUqFuArvfqu9cdzfgJdP6wBu1w+907rAtoB61N/OgGoL0mJ/Wyo5nOATqPuKYhPt8EVB6neAL9yiuvYPfu3aJ39kjLcZheldMDo5v97Tgx4B9b2dHMlgSabrv00Pf+++/j999/bwo/uoXTkB/Fo5GOVm808b5V849bNR9aXbZVr76lMzFEHg5B0zT0bR/GZE6xXvUCUmMRbAtr0LQQtg1NonLY6sFOZxEf2oaQpiH0cBSJBQPGQgLD2/usNEeQvGKt8YKMk0Hs8UocNc8aoNdKyB6OmmUIb0NkLIXiSr3aqOEGirMxRB6isveJeIkDTpOjPDdpl1N7KILYbBFUUlEGjeJZH2nTr+koUJqWXlRftexq7uq+Zw9NJ9N48+effy5WcKiR6+3T9FGaburX2DMBTaMvrYC6VUB7rSk05mIIhaNILpShL+sonY9hQIsguUgqlpDcoWFgPIuSbsBYKSE7PgBtRxIlIbIJp7Y9huyiDn3ZOh4Ooe/xCeTUMHtZV22c3NEIQnaeFkwSIOjI7A2ZZVimPIpIHxhAaG/Gc92jkY0hpA0gdr5k1m1uAhG6MC0bWq07DSyUF5KIhkOIzVVdfIrJUZqJQNaX4jj1qkcempsPXT96MEcIaOr9WwE1gUhpbfbjBXT54yi0xxIo2s5MdRTncigsmY1qLOsw7GMA5uPQtDjMxyqrt80pei+lECW7Uw27msSgFkVadPwucawLZ3DaXMno6KEvT6JfiyErGaOsbqSw005PyduxW0Z6SEP/8YIj1PFQaOjQdTXhMlJRDdFZeYeyyqoAjRUduuPu4HKOI0fzR1M9tEu8QIMk0K2Aul1AYyWPib+HoD00gOGxBFJzRegqwOUcEvukySFvwVVAqw0uga4JiyIlpq27A6CCpgItLjh523d8y/TqNbmZT8xxJQBqPoCB4pl4xeSw0m8I9FoZuakR2+SQJonXg2PXAy2h3qh5o14cm+mlvXpoiYOxWEB2dgIjO/qgbR9FhuBbK2Byu4bI4RxKsiNz66Fr4K0aGRCQSwDXCTSNST86ibwwN8jkqHwcdw5ZEfvbyke9U8AJtH52BKFHRpBakE4bvHvowttkcsWRuyEFca+PXQxrp+uB3qzZ0R6gdeRPTyCRlbdYgriIxGPWbdcBotUyOReTYyNAO0AzbXVXk+PbCYQ0eTEomKh3ESW4sku2d2OTw9lbU8wSUjsbmRzVwJNeuaaG9roa6M3CTNK2B2iAbulmL2U+FDoejIwcYmHroXBZR3khhdHtZHaMWH48XHqnJk2OkP3QWEZhOuqAVjU5sFZCaiiEyvn04BrH4I5JFGQnWaHYsef1UCge8OwH4hLMh1MN/W9Lu7uAyUc0RE4WLFvbQG48ZD8U6ksFpA4MiJGQkbOyl3cUwf7RtUC3AmZSoV1ACzuyahgqft4cw6ByGFdSiJEZQkN6O2JInU8gqg0ieZWObhzo2EzaMWyX+LYChANoymaliLQcthNDh3FkxSgMHWy8iSFJZdgufXTQHuUA2cPHK8OB0eM5pA9p0MayYuiOUi5nRjFIIyNDafNV/EpRDGP2kb0thvmySEQ1yLtLvdJ0LdCtGLIjUdoHdL0m8Cvc5SLYYFYCfMeDonxodTFRNphHq6J1JdCtqjyl06px6FZdYK2rW+uABg27KQ+J6n7jB8bW1abZlLY80F5zOZoZ+ehMRzMtBLpZmjrgvC0PNLVBvdl2bo5lqsPY0UwHUKwUgYFWxODd7leAge7+NuQaKAow0IoYvNv9CjDQ3d+GXANFAQZaEYN3u18BBrr725BroCjAQCti8G73K8BAd38bcg0UBRhoRYzV1VXxKpzmd7h91P8vVKLxbgcpwEBbjUE+RWgGX6NX3eRcp/P+fmJrvuKudw0JoH/9xx8hP/VO7PVwcgfcCGZy5P7MM88I71AbgrqcQ9KXP9psAug1A6WFLFJTMbEMquEyJmtedGU94zpbnqaKziSRD+hvZxhoq72kY8l6UF+8eFF4iyL3whvpqfXMKELKH2+uE5MGp1cBXbP6xVz9QW4TYjNxDHs4dBELEcRUUbmesUHWbof0DEbDIYzKfxh1O8fHMAbaEjedTjfsock1MG3kAo08Qm0Ean/a0QtowLBXnFSdW12gpTSi4Sjih3YqK86rT+rs3wy01T7NAk2n04LcdUOtLHotTg9CU/1d6BmMaP2YXKjA4jhHzyMxPACxeqPGAUwFUrF2T52IX+NbrnJuJSe5R+4IQohMF1GiBbO2CwV5XH6bPb5chV35lpP9nXmIMh1KISOd6IS3gVaslD3XKsr81vfNQFt6eZkcH374oWPkg/6HkZy5N+0ZSgEaVT4waE0egVFZY2dCM3yGlkspTmhokv1SAUla+zees5YvOQFCjcmhAlF1rnJIrMzekRR+Q8wVKvVNDkNXJ/wXkYxqCA2lUBKQOvMwL7JaJzSRmcryM6UYm95loC0JaZ5zPfu5UTjFa2pTgV7LIx7ux6T4H1MD2TENseOTGHwsaf6ZvZFFzF6BncdEWMPoedtugHEjj1yuaHk0cgK0IaCXMxgJR6z1i9I9V32g1fpSbx4Kx5C1ncI4y2P20I6l5xCLZmVd1cRasM9AWyK2FWiYEIsFn2LFN63uppXP1qLY+ThCSoOXPh5GHy1afXwE8Zk0CravCiq8E6D1A01lMU0NyZNXDy3PozvNgDaA+HzlYqsujwC62vRRL247sdbsMNCWju0FGhBmRjSFEsFr2dOFt/tBt2Kynyvmh1VAo4zifBrJMVo9HUJkqtAak0P445CLXmu/K96NqoBbySNOznEst2KVo84LjIGuKNPWvXYDDfEgOIrYWAimrQxgYRL90Tji0VDFV/JiFpNH0w7fGMb5UeWhzQnQunvoNaNmAWxhmkY5YsiSza52vnaLmL16xW62D9TcMdjkULVp437bgYYcLZCjA5ZLsEc0aOEYchIkI48J6SZMrLx290xqvywRF0oIsUy5ytkhiVkFfx19a0yOpSwSUxkUrTIJu1mLInlVfTiU8DvzEECHI5iYMz2Tmg52VK9JdQqxwWA2OSzh2g80hGlRcZlrFiR/OORwwCJCyzlMymE78r+8L4m87S/GCRA5tCmc3CmG+EJHq/8Sovpcd2qqgTZycfTZL4XkhVjPPHHmIYAeTyKtDttN5Z2OKt2LsaFQBtqS7ZNPPvF3lGNDzdP9kVxtaB+rxUAz0D7i5fRC6mtGVuIMNAPtK2ed1UM/uA99di9uHvizPRtPzsr7df+f8L98ylcx2pm412y7ei9X6D9oeOscBRr20KvX52tBVqaaEtwE/O3MP10/d/51DGv/vdE5tW1QksXFRezZs2dddjTN5/jll18apMqH2q1AQ6DvXZ3zBNrusatAl+E3D/4F91cCmhy7TjXpT0TJeaPbapXqMDqv2X8FW2cx+PRNKNAY6P9cEEDrp3fjXvHLdX/0U7tE/NVrFzdRRI7KCjSvQGOgr34pgLyTiTefonLm7XOHRPx7V79UQnmXFfBPAQbaP2055QAUaAx0kXvoANqEs9yEAgz0JsTjqJ2nAAPdeW3CJdqEAh5A/5sfCjchLkdtvwIMdPs15xx9VKAh0KvXcqKHXj7xqOubwHpvCGX48uSjIv7q4iUfq8BJswIVBRoC/eDeHdw68lcBpXzzt97vWxN/w4PVu5UceY8V8FGBhkD7mC8nzQr4ogAD7YusnGhQCjDQQSnP+fqiAAPti6ycaFAKMNBBKc/5+qIAA+2LrJxoUAow0EEpz/n6ogAD7YusnGhQCjDQQSnP+fqiAAPti6ycaFAKMNBBKc/5+qIAA+2LrJxoUAow0EEpz/n6ogAD7YusnGhQCjDQQSnP+fqigADal5Q5UVYgAAUY6ABE5yz9U4CB9k9bTjkABRjoAETnLP1TgIH2T1tOOQAFGOgAROcs/VPg//Ewf/ky/6lLAAAAAElFTkSuQmCC)"
      ],
      "metadata": {
        "id": "azaOcuAbO50o"
      }
    },
    {
      "cell_type": "code",
      "execution_count": 34,
      "metadata": {
        "id": "WHQTdCVSaIJT",
        "colab": {
          "base_uri": "https://localhost:8080/"
        },
        "outputId": "76adf708-566b-4354-f7b0-d6b73994c949"
      },
      "outputs": [
        {
          "output_type": "stream",
          "name": "stdout",
          "text": [
            "Mounted at /content/drive\n"
          ]
        }
      ],
      "source": [
        "from google.colab import drive\n",
        "drive.mount('/content/drive')"
      ]
    },
    {
      "cell_type": "code",
      "source": [
        "%cd drive/MyDrive/CS425_Collab"
      ],
      "metadata": {
        "colab": {
          "base_uri": "https://localhost:8080/"
        },
        "id": "OeBTZ44GPlBz",
        "outputId": "3f40311e-a467-4adc-f5d8-070708eaaa8f"
      },
      "execution_count": 35,
      "outputs": [
        {
          "output_type": "stream",
          "name": "stdout",
          "text": [
            "/content/drive/MyDrive/CS425_Collab\n"
          ]
        }
      ]
    },
    {
      "cell_type": "code",
      "execution_count": 36,
      "metadata": {
        "id": "KEmrCQVfCDcr"
      },
      "outputs": [],
      "source": [
        "import torchtext\n",
        "from torchtext import data,datasets"
      ]
    },
    {
      "cell_type": "code",
      "execution_count": 37,
      "metadata": {
        "colab": {
          "base_uri": "https://localhost:8080/"
        },
        "id": "9gznD0sbCjBE",
        "outputId": "311f1bee-fa26-45d2-bf75-afb2add24bed"
      },
      "outputs": [
        {
          "output_type": "stream",
          "name": "stdout",
          "text": [
            "0.6.0\n"
          ]
        }
      ],
      "source": [
        "print(torchtext.__version__)"
      ]
    },
    {
      "cell_type": "code",
      "source": [
        "train_string = open('./Twitter_en_train.txt','r').read()\n",
        "test_string = open('./Twitter_en_test.txt','r').read()"
      ],
      "metadata": {
        "id": "I8gmU81QPvxf"
      },
      "execution_count": 38,
      "outputs": []
    },
    {
      "cell_type": "code",
      "source": [
        "train = train_string[:-1].split('\\n')\n",
        "test = test_string.split('\\n')"
      ],
      "metadata": {
        "id": "DlZJNJCPQmWQ"
      },
      "execution_count": 39,
      "outputs": []
    },
    {
      "cell_type": "code",
      "source": [
        "train[:10]\n"
      ],
      "metadata": {
        "colab": {
          "base_uri": "https://localhost:8080/"
        },
        "id": "PnNaA7kAQ5dH",
        "outputId": "08149aa0-0146-474a-efbd-03c319e4a735"
      },
      "execution_count": 40,
      "outputs": [
        {
          "output_type": "execute_result",
          "data": {
            "text/plain": [
              "['our three war face swap 💗💗',\n",
              " 'this is soc funny',\n",
              " 'trump campaign chair in ohio said it\\'s black people\\'s \"own fault\" if they\\'ve been unsuccessful for 50 years…',\n",
              " \"she's as ignorant as trump. so there's been no discrimination of blacks in the last 50 years? no cronyism? no old boy clubs? pathetic\",\n",
              " 'i stopped playing the millionaire- only cash, primetime &amp; mon-thurs tourn…',\n",
              " 'did the same thing this week. sitting in 22/22k with aj and cinci. no one if front with aj.',\n",
              " 'always and forever 🦄🌈💋',\n",
              " 'i believe it lol',\n",
              " \"stolen from everybody but let's see what you've got, anitwitter\",\n",
              " 'tried to keep the trifecta intact if i could']"
            ]
          },
          "metadata": {},
          "execution_count": 40
        }
      ]
    },
    {
      "cell_type": "code",
      "source": [
        "train_concat = []\n",
        "for i in range(0,len(train),2):\n",
        "  train_concat.append(train[i]+' \\t '+train[i+1])"
      ],
      "metadata": {
        "id": "bLXAIlW2ZP24"
      },
      "execution_count": 41,
      "outputs": []
    },
    {
      "cell_type": "code",
      "source": [
        "test_concat = []\n",
        "for i in range(0,len(test),2):\n",
        "  test_concat.append(test[i]+' \\t '+test[i+1])"
      ],
      "metadata": {
        "id": "h-gwwIDJwS6y"
      },
      "execution_count": 42,
      "outputs": []
    },
    {
      "cell_type": "code",
      "source": [
        "train_concat[20]"
      ],
      "metadata": {
        "colab": {
          "base_uri": "https://localhost:8080/",
          "height": 53
        },
        "id": "GT9YRsTQiGil",
        "outputId": "1f1c28b2-030e-408a-89a9-50372930076b"
      },
      "execution_count": 43,
      "outputs": [
        {
          "output_type": "execute_result",
          "data": {
            "text/plain": [
              "\"im so excited for my party tonight at highline ballroom in nyc. legit gonna be a shit show. \\t damn they sold out already lol have fun buddy. i'll try to swing through and say what up\""
            ],
            "application/vnd.google.colaboratory.intrinsic+json": {
              "type": "string"
            }
          },
          "metadata": {},
          "execution_count": 43
        }
      ]
    },
    {
      "cell_type": "code",
      "source": [
        "test_concat[0]"
      ],
      "metadata": {
        "colab": {
          "base_uri": "https://localhost:8080/",
          "height": 35
        },
        "id": "kteWh3bFwagA",
        "outputId": "eec86b20-41a4-4518-faf3-594a788afc98"
      },
      "execution_count": 44,
      "outputs": [
        {
          "output_type": "execute_result",
          "data": {
            "text/plain": [
              "\"i have a trump card . . . \\t honestly i'm fairly proud of my blocked list but damn a speedway is impressive 👏\""
            ],
            "application/vnd.google.colaboratory.intrinsic+json": {
              "type": "string"
            }
          },
          "metadata": {},
          "execution_count": 44
        }
      ]
    },
    {
      "cell_type": "code",
      "source": [
        "len(train_concat)"
      ],
      "metadata": {
        "colab": {
          "base_uri": "https://localhost:8080/"
        },
        "id": "cuiT5mlhjnEt",
        "outputId": "dfaf989c-a131-487f-f8f3-405f66dc57e4"
      },
      "execution_count": 45,
      "outputs": [
        {
          "output_type": "execute_result",
          "data": {
            "text/plain": [
              "377065"
            ]
          },
          "metadata": {},
          "execution_count": 45
        }
      ]
    },
    {
      "cell_type": "code",
      "source": [
        "from sklearn.model_selection import train_test_split\n",
        "\n",
        "train_data, val_data = train_test_split(train_concat, test_size=0.2, random_state=42)"
      ],
      "metadata": {
        "id": "sn9NdKExe_ng"
      },
      "execution_count": 46,
      "outputs": []
    },
    {
      "cell_type": "code",
      "source": [
        "len(train_data)"
      ],
      "metadata": {
        "colab": {
          "base_uri": "https://localhost:8080/"
        },
        "id": "FMJm_QiVjl3A",
        "outputId": "b5f8aae1-a68b-4dac-91cc-b94fb1e2f832"
      },
      "execution_count": 47,
      "outputs": [
        {
          "output_type": "execute_result",
          "data": {
            "text/plain": [
              "301652"
            ]
          },
          "metadata": {},
          "execution_count": 47
        }
      ]
    },
    {
      "cell_type": "code",
      "source": [
        "train_data[:10]"
      ],
      "metadata": {
        "colab": {
          "base_uri": "https://localhost:8080/"
        },
        "id": "hRABLyFZfcpU",
        "outputId": "1c555837-fb7d-4b11-9612-deba94f6e26e"
      },
      "execution_count": 48,
      "outputs": [
        {
          "output_type": "execute_result",
          "data": {
            "text/plain": [
              "['hoaxing media has lost its power and influence. cry more! \\t - new york times - you are nothing but a hack rag now.. you have no influence on anything but shit and cockroaches !!',\n",
              " 'have you ever heard anyone, in your career, describe sid blumenthal as credible, jake? \\t sid blumenthal says you can trust sid blumenthal.',\n",
              " 'hate to say it but ur boy denico is shooting all the wrong gaps, getting flushed into nowhere \\t need to play a 43 under front with cover 2',\n",
              " \"is trending! you've stumbled into a gold mine! \\t oh god. am i going to become a moment?\",\n",
              " '12 pm. . joining , , and . \\t you ruined todays show with your big fat m',\n",
              " 'homecoming w these beautiful girls 💕 \\t booty is poppin girlfriend 😘',\n",
              " \"never know. sometimes playing contrary style against a favorite is more difficult than a talented same style team. \\t all i can say, last year was diaco 1, herman 0. uconn's game plan was so superior last year.\",\n",
              " \"i'm lost who the fck is the robin girl like where did she come from and why?! i'm so lost! \\t -meli - you r the cutest! she is friends with teresa\",\n",
              " 'what are these called ? \\t they some new shits they are the new casual version of the sl loops but we dont got them yet',\n",
              " \"y'all knew the cane was gon' be messed up.. \\t interesting u tweet about shows while black people r dying in charlotte. might b outta touch in that 21-room montecito estate\"]"
            ]
          },
          "metadata": {},
          "execution_count": 48
        }
      ]
    },
    {
      "cell_type": "code",
      "source": [
        "def split_and_save(data_array, output_file1, output_file2):\n",
        "    input = []\n",
        "    output = []\n",
        "    for i in range(len(data_array)):\n",
        "      inp = data_array[i].split('\\t')[0]\n",
        "      outp = data_array[i].split('\\t')[1]\n",
        "      input.append(inp)\n",
        "      output.append(outp)\n",
        "\n",
        "    with open(output_file1, 'w', encoding='utf-8') as file1:\n",
        "        file1.write('\\n'.join(input))\n",
        "    with open(output_file2, 'w', encoding='utf-8') as file2:\n",
        "        file2.write('\\n'.join(output))"
      ],
      "metadata": {
        "id": "YZ274SNTk72k"
      },
      "execution_count": 49,
      "outputs": []
    },
    {
      "cell_type": "code",
      "source": [
        "split_and_save(train_data, \"train.in\",\"train.out\")"
      ],
      "metadata": {
        "id": "uJ82vCI9s8ki"
      },
      "execution_count": 50,
      "outputs": []
    },
    {
      "cell_type": "code",
      "source": [
        "split_and_save(val_data, \"val.in\",\"val.out\")"
      ],
      "metadata": {
        "id": "Q1ZPq599wEpi"
      },
      "execution_count": 51,
      "outputs": []
    },
    {
      "cell_type": "code",
      "source": [
        "split_and_save(test_concat, \"test.in\",\"test.out\")"
      ],
      "metadata": {
        "id": "JQdZXww0wjWX"
      },
      "execution_count": 52,
      "outputs": []
    },
    {
      "cell_type": "code",
      "source": [
        "!pip install torchtext==0.6.0"
      ],
      "metadata": {
        "colab": {
          "base_uri": "https://localhost:8080/"
        },
        "id": "wBmiHEnIx1qd",
        "outputId": "3934a599-0d05-45bc-8f6d-4b55606a5269"
      },
      "execution_count": 53,
      "outputs": [
        {
          "output_type": "stream",
          "name": "stdout",
          "text": [
            "Requirement already satisfied: torchtext==0.6.0 in /usr/local/lib/python3.10/dist-packages (0.6.0)\n",
            "Requirement already satisfied: tqdm in /usr/local/lib/python3.10/dist-packages (from torchtext==0.6.0) (4.66.1)\n",
            "Requirement already satisfied: requests in /usr/local/lib/python3.10/dist-packages (from torchtext==0.6.0) (2.31.0)\n",
            "Requirement already satisfied: torch in /usr/local/lib/python3.10/dist-packages (from torchtext==0.6.0) (2.1.0+cu118)\n",
            "Requirement already satisfied: numpy in /usr/local/lib/python3.10/dist-packages (from torchtext==0.6.0) (1.23.5)\n",
            "Requirement already satisfied: six in /usr/local/lib/python3.10/dist-packages (from torchtext==0.6.0) (1.16.0)\n",
            "Requirement already satisfied: sentencepiece in /usr/local/lib/python3.10/dist-packages (from torchtext==0.6.0) (0.1.99)\n",
            "Requirement already satisfied: charset-normalizer<4,>=2 in /usr/local/lib/python3.10/dist-packages (from requests->torchtext==0.6.0) (3.3.2)\n",
            "Requirement already satisfied: idna<4,>=2.5 in /usr/local/lib/python3.10/dist-packages (from requests->torchtext==0.6.0) (3.4)\n",
            "Requirement already satisfied: urllib3<3,>=1.21.1 in /usr/local/lib/python3.10/dist-packages (from requests->torchtext==0.6.0) (2.0.7)\n",
            "Requirement already satisfied: certifi>=2017.4.17 in /usr/local/lib/python3.10/dist-packages (from requests->torchtext==0.6.0) (2023.7.22)\n",
            "Requirement already satisfied: filelock in /usr/local/lib/python3.10/dist-packages (from torch->torchtext==0.6.0) (3.13.1)\n",
            "Requirement already satisfied: typing-extensions in /usr/local/lib/python3.10/dist-packages (from torch->torchtext==0.6.0) (4.5.0)\n",
            "Requirement already satisfied: sympy in /usr/local/lib/python3.10/dist-packages (from torch->torchtext==0.6.0) (1.12)\n",
            "Requirement already satisfied: networkx in /usr/local/lib/python3.10/dist-packages (from torch->torchtext==0.6.0) (3.2.1)\n",
            "Requirement already satisfied: jinja2 in /usr/local/lib/python3.10/dist-packages (from torch->torchtext==0.6.0) (3.1.2)\n",
            "Requirement already satisfied: fsspec in /usr/local/lib/python3.10/dist-packages (from torch->torchtext==0.6.0) (2023.6.0)\n",
            "Requirement already satisfied: triton==2.1.0 in /usr/local/lib/python3.10/dist-packages (from torch->torchtext==0.6.0) (2.1.0)\n",
            "Requirement already satisfied: MarkupSafe>=2.0 in /usr/local/lib/python3.10/dist-packages (from jinja2->torch->torchtext==0.6.0) (2.1.3)\n",
            "Requirement already satisfied: mpmath>=0.19 in /usr/local/lib/python3.10/dist-packages (from sympy->torch->torchtext==0.6.0) (1.3.0)\n"
          ]
        }
      ]
    },
    {
      "cell_type": "code",
      "source": [
        "import torchtext\n",
        "from torchtext import data,datasets\n",
        "# from torchtext.legacy import data"
      ],
      "metadata": {
        "id": "AXx6KJ5CxYB_"
      },
      "execution_count": 54,
      "outputs": []
    },
    {
      "cell_type": "code",
      "source": [
        "print(torchtext.__version__)"
      ],
      "metadata": {
        "colab": {
          "base_uri": "https://localhost:8080/"
        },
        "id": "-7wS69ryxvBO",
        "outputId": "c663f082-0f92-4676-ee73-999dba526f23"
      },
      "execution_count": 55,
      "outputs": [
        {
          "output_type": "stream",
          "name": "stdout",
          "text": [
            "0.6.0\n"
          ]
        }
      ]
    },
    {
      "cell_type": "code",
      "execution_count": 56,
      "metadata": {
        "colab": {
          "base_uri": "https://localhost:8080/"
        },
        "id": "lXtYwdHqUgRj",
        "outputId": "164fc10e-14e9-4437-b985-97ccf6512196"
      },
      "outputs": [
        {
          "output_type": "stream",
          "name": "stdout",
          "text": [
            "233773\n",
            "212841\n"
          ]
        }
      ],
      "source": [
        "# Load words from IWSLT\n",
        "\n",
        "#!pip install torchtext spacy\n",
        "#!python -m spacy download en\n",
        "#!python -m spacy download de\n",
        "\n",
        "# import spacy\n",
        "# spacy_de = spacy.load('de_core_news_sm')\n",
        "# spacy_en = spacy.load('en_core_web_sm')\n",
        "\n",
        "# def tokenize_de(text):\n",
        "#     return [tok.text for tok in spacy_de.tokenizer(text)]\n",
        "\n",
        "# def tokenize_en(text):\n",
        "#     return [tok.text for tok in spacy_en.tokenizer(text)]\n",
        "\n",
        "BOS_WORD = '<s>'\n",
        "EOS_WORD = '</s>'\n",
        "BLANK_WORD = \"<blank>\"\n",
        "# SRC = data.Field(tokenize=tokenize_de, pad_token=BLANK_WORD)\n",
        "# TGT = data.Field(tokenize=tokenize_en, init_token = BOS_WORD,\n",
        "#                  eos_token = EOS_WORD, pad_token=BLANK_WORD)\n",
        "SRC = torchtext.data.Field(sequential=True, use_vocab=True, pad_token=BLANK_WORD)\n",
        "TGT = torchtext.data.Field(sequential=True, use_vocab=True, init_token = BOS_WORD,\n",
        "                 eos_token = EOS_WORD, pad_token=BLANK_WORD)\n",
        "MAX_LEN = 100\n",
        "train,val,test= datasets.TranslationDataset.splits(path='./',exts=('.in', '.out'), fields=(SRC, TGT),\n",
        "                                         filter_pred=lambda x: len(vars(x)['src']) <= MAX_LEN and\n",
        "                                         len(vars(x)['trg']) <= MAX_LEN)\n",
        "# train = torchtext.data.TranslationDataset.splits(path='/content/test.all', fields=(SRC, TGT),format = 'TSV')\n",
        "# from torchtext.datasets import IWSLT2016\n",
        "# # # !pip install torchdata\n",
        "# train, valid, test = IWSLT2016()\n",
        "# exit()\n",
        "MIN_FREQ = 1\n",
        "#print(train)\n",
        "SRC.build_vocab(train.src, min_freq=MIN_FREQ)\n",
        "TGT.build_vocab(train.trg, min_freq=MIN_FREQ)\n",
        "print(len(SRC.vocab))\n",
        "print(len(TGT.vocab))"
      ]
    },
    {
      "cell_type": "code",
      "execution_count": 57,
      "metadata": {
        "id": "F8MTIJTWUgRl"
      },
      "outputs": [],
      "source": [
        "# Detail. Batching seems to matter quite a bit.\n",
        "# This is temporary code for dynamic batching based on number of tokens.\n",
        "# This code should all go away once things get merged in this library.\n",
        "\n",
        "BATCH_SIZE = 4096\n",
        "global max_src_in_batch, max_tgt_in_batch\n",
        "def batch_size_fn(new, count, sofar):\n",
        "    \"Keep augmenting batch and calculate total number of tokens + padding.\"\n",
        "    global max_src_in_batch, max_tgt_in_batch\n",
        "    if count == 1:\n",
        "        max_src_in_batch = 0\n",
        "        max_tgt_in_batch = 0\n",
        "    max_src_in_batch = max(max_src_in_batch,  len(new.src))\n",
        "    max_tgt_in_batch = max(max_tgt_in_batch,  len(new.trg) + 2)\n",
        "    src_elements = count * max_src_in_batch\n",
        "    tgt_elements = count * max_tgt_in_batch\n",
        "    return max(src_elements, tgt_elements)\n",
        "\n",
        "class MyIterator(data.Iterator):\n",
        "    def create_batches(self):\n",
        "        if self.train:\n",
        "            def pool(d, random_shuffler):\n",
        "                for p in data.batch(d, self.batch_size * 100):\n",
        "                    p_batch = data.batch(\n",
        "                        sorted(p, key=self.sort_key),\n",
        "                        self.batch_size, self.batch_size_fn)\n",
        "                    for b in random_shuffler(list(p_batch)):\n",
        "                        yield b\n",
        "            self.batches = pool(self.data(), self.random_shuffler)\n",
        "\n",
        "        else:\n",
        "            self.batches = []\n",
        "            for b in data.batch(self.data(), self.batch_size,\n",
        "                                          self.batch_size_fn):\n",
        "                self.batches.append(sorted(b, key=self.sort_key))\n",
        "\n",
        "def rebatch(pad_idx, batch):\n",
        "    \"Fix order in torchtext to match ours\"\n",
        "    src, trg = batch.src.transpose(0, 1), batch.trg.transpose(0, 1)\n",
        "    src_mask, trg_mask = make_std_mask(src, trg, pad_idx)\n",
        "    return Batch(src, trg, src_mask, trg_mask, (trg[1:] != pad_idx).data.sum())\n",
        "\n",
        "train_iter = MyIterator(train, batch_size=BATCH_SIZE, device='cuda',\n",
        "                        repeat=False, sort_key=lambda x: (len(x.src), len(x.trg)),\n",
        "                        batch_size_fn=batch_size_fn, train=True)\n",
        "valid_iter = MyIterator(val, batch_size=BATCH_SIZE, device='cuda',\n",
        "                        repeat=False, sort_key=lambda x: (len(x.src), len(x.trg)),\n",
        "                        batch_size_fn=batch_size_fn, train=False)"
      ]
    },
    {
      "cell_type": "code",
      "execution_count": 58,
      "metadata": {
        "id": "wamR3SPdUgRo",
        "colab": {
          "base_uri": "https://localhost:8080/"
        },
        "outputId": "24f2ce83-3132-41e7-adec-a519ddb618e7"
      },
      "outputs": [
        {
          "output_type": "stream",
          "name": "stderr",
          "text": [
            "<ipython-input-20-1636b59b1041>:17: UserWarning: nn.init.xavier_uniform is now deprecated in favor of nn.init.xavier_uniform_.\n",
            "  nn.init.xavier_uniform(p)\n"
          ]
        },
        {
          "output_type": "execute_result",
          "data": {
            "text/plain": [
              "EncoderDecoder(\n",
              "  (encoder): Encoder(\n",
              "    (layers): ModuleList(\n",
              "      (0-5): 6 x EncoderLayer(\n",
              "        (self_attn): MultiHeadedAttention(\n",
              "          (linears): ModuleList(\n",
              "            (0-3): 4 x Linear(in_features=512, out_features=512, bias=True)\n",
              "          )\n",
              "        )\n",
              "        (feed_forward): PositionwiseFeedForward(\n",
              "          (w_1): Linear(in_features=512, out_features=2048, bias=True)\n",
              "          (w_2): Linear(in_features=2048, out_features=512, bias=True)\n",
              "          (dropout): Dropout(p=0.1, inplace=False)\n",
              "        )\n",
              "        (sublayer): ModuleList(\n",
              "          (0-1): 2 x SublayerConnection(\n",
              "            (norm): LayerNorm()\n",
              "            (dropout): Dropout(p=0.1, inplace=False)\n",
              "          )\n",
              "        )\n",
              "      )\n",
              "    )\n",
              "    (norm): LayerNorm()\n",
              "  )\n",
              "  (decoder): Decoder(\n",
              "    (layers): ModuleList(\n",
              "      (0-5): 6 x DecoderLayer(\n",
              "        (self_attn): MultiHeadedAttention(\n",
              "          (linears): ModuleList(\n",
              "            (0-3): 4 x Linear(in_features=512, out_features=512, bias=True)\n",
              "          )\n",
              "        )\n",
              "        (src_attn): MultiHeadedAttention(\n",
              "          (linears): ModuleList(\n",
              "            (0-3): 4 x Linear(in_features=512, out_features=512, bias=True)\n",
              "          )\n",
              "        )\n",
              "        (feed_forward): PositionwiseFeedForward(\n",
              "          (w_1): Linear(in_features=512, out_features=2048, bias=True)\n",
              "          (w_2): Linear(in_features=2048, out_features=512, bias=True)\n",
              "          (dropout): Dropout(p=0.1, inplace=False)\n",
              "        )\n",
              "        (sublayer): ModuleList(\n",
              "          (0-2): 3 x SublayerConnection(\n",
              "            (norm): LayerNorm()\n",
              "            (dropout): Dropout(p=0.1, inplace=False)\n",
              "          )\n",
              "        )\n",
              "      )\n",
              "    )\n",
              "    (norm): LayerNorm()\n",
              "  )\n",
              "  (src_embed): Sequential(\n",
              "    (0): Embeddings(\n",
              "      (lut): Embedding(233773, 512)\n",
              "    )\n",
              "    (1): PositionalEncoding(\n",
              "      (dropout): Dropout(p=0.1, inplace=False)\n",
              "    )\n",
              "  )\n",
              "  (tgt_embed): Sequential(\n",
              "    (0): Embeddings(\n",
              "      (lut): Embedding(212841, 512)\n",
              "    )\n",
              "    (1): PositionalEncoding(\n",
              "      (dropout): Dropout(p=0.1, inplace=False)\n",
              "    )\n",
              "  )\n",
              "  (generator): Generator(\n",
              "    (proj): Linear(in_features=512, out_features=212841, bias=True)\n",
              "  )\n",
              ")"
            ]
          },
          "metadata": {},
          "execution_count": 58
        }
      ],
      "source": [
        "# Create the model an load it onto our GPU.\n",
        "pad_idx = TGT.vocab.stoi[\"<blank>\"]\n",
        "model = make_model(len(SRC.vocab), len(TGT.vocab), N=6)\n",
        "model_opt = get_std_opt(model)\n",
        "model.cuda()"
      ]
    },
    {
      "cell_type": "code",
      "execution_count": null,
      "metadata": {
        "id": "SStCCZoiUgRp",
        "colab": {
          "base_uri": "https://localhost:8080/"
        },
        "outputId": "a5512696-a32f-429e-953e-90da157fe173"
      },
      "outputs": [
        {
          "output_type": "stream",
          "name": "stderr",
          "text": [
            "/usr/local/lib/python3.10/dist-packages/torch/nn/_reduction.py:42: UserWarning: size_average and reduce args will be deprecated, please use reduction='sum' instead.\n",
            "  warnings.warn(warning.format(ret))\n"
          ]
        },
        {
          "output_type": "stream",
          "name": "stdout",
          "text": [
            "train epoch: 0 batch: 1 loss: 9.996365904808044 lr: 6.987712429686844e-07\n",
            "train epoch: 0 batch: 11 loss: 10.24176836013794 lr: 4.192627457812107e-06\n",
            "train epoch: 0 batch: 21 loss: 10.300347626209259 lr: 7.686483672655528e-06\n",
            "train epoch: 0 batch: 31 loss: 10.218187168240547 lr: 1.118033988749895e-05\n",
            "train epoch: 0 batch: 41 loss: 9.888979136943817 lr: 1.4674196102342371e-05\n",
            "train epoch: 0 batch: 51 loss: 10.076412320137024 lr: 1.8168052317185794e-05\n",
            "train epoch: 0 batch: 61 loss: 9.865258306264877 lr: 2.1661908532029216e-05\n",
            "train epoch: 0 batch: 71 loss: 8.53105485253036 lr: 2.515576474687264e-05\n",
            "train epoch: 0 batch: 81 loss: 9.09256237745285 lr: 2.8649620961716057e-05\n",
            "train epoch: 0 batch: 91 loss: 8.999654054641724 lr: 3.214347717655948e-05\n",
            "train epoch: 0 batch: 101 loss: 9.296980828046799 lr: 3.56373333914029e-05\n",
            "train epoch: 0 batch: 111 loss: 9.081192165613174 lr: 3.913118960624633e-05\n",
            "train epoch: 0 batch: 121 loss: 8.862163454294205 lr: 4.262504582108975e-05\n"
          ]
        }
      ],
      "source": [
        "criterion = LabelSmoothing(size=len(TGT.vocab), padding_idx=pad_idx, smoothing=0.1)\n",
        "criterion.cuda()\n",
        "for epoch in range(10):\n",
        "    train_epoch(epoch, (rebatch(pad_idx, b) for b in train_iter), model, criterion, model_opt)\n",
        "    valid_epoch(epoch, (rebatch(pad_idx, b) for b in valid_iter), model, criterion)"
      ]
    },
    {
      "cell_type": "code",
      "source": [
        "def greedy_decode(model, src, src_mask, max_len, start_symbol):\n",
        "    memory = model.encode(src, src_mask)\n",
        "    ys = torch.ones(1, 1).fill_(start_symbol).type_as(src.data)\n",
        "    for i in range(max_len-1):\n",
        "        out = model.decode(memory, src_mask,\n",
        "                           Variable(ys),\n",
        "                           Variable(subsequent_mask(ys.size(1))\n",
        "                                    .type_as(src.data)))\n",
        "        prob = model.generator(out[:, -1])\n",
        "        _, next_word = torch.max(prob, dim = 1)\n",
        "        next_word = next_word.data[0]\n",
        "        ys = torch.cat([ys,\n",
        "                        torch.ones(1, 1).type_as(src.data).fill_(next_word)], dim=1)\n",
        "    return ys"
      ],
      "metadata": {
        "id": "9I0Azr8hxOQh"
      },
      "execution_count": null,
      "outputs": []
    },
    {
      "cell_type": "code",
      "source": [
        "model.eval()\n",
        "print(len(SRC.vocab), len(TGT.vocab))\n",
        "# print(TGT.vocab.stoi)\n",
        "\n",
        "# Get the device of the model\n",
        "device = next(model.parameters()).device\n",
        "\n",
        "sent = \"it my birthday ! ! ! i want one ! !\".split()\n",
        "src = torch.LongTensor([[SRC.vocab.stoi[w] for w in sent]]).to(device)\n",
        "src = Variable(src)\n",
        "src_mask = (src != SRC.vocab.stoi[\"<blank>\"]).unsqueeze(-2).to(device)\n",
        "out = greedy_decode(model, src, src_mask,\n",
        "                    max_len=60, start_symbol=TGT.vocab.stoi[\"<s>\"])\n",
        "print(\"Translation:\", end=\"\\t\")\n",
        "trans = \"<s> \"\n",
        "for i in range(1, out.size(1)):\n",
        "    sym = TGT.vocab.itos[out[0, i]]\n",
        "    trans += sym + \" \"\n",
        "    if sym == \"</s>\": break\n",
        "print(trans)"
      ],
      "metadata": {
        "id": "kKKdibOQxTdK"
      },
      "execution_count": null,
      "outputs": []
    }
  ],
  "metadata": {
    "accelerator": "GPU",
    "colab": {
      "collapsed_sections": [
        "aVdpQ_KwUgQv",
        "52xwbbb4UgRK"
      ],
      "provenance": [],
      "gpuType": "T4"
    },
    "kernelspec": {
      "display_name": "Python 3",
      "name": "python3"
    }
  },
  "nbformat": 4,
  "nbformat_minor": 0
}